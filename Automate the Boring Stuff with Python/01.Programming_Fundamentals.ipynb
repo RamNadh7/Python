{
 "cells": [
  {
   "cell_type": "markdown",
   "id": "78c36992",
   "metadata": {},
   "source": [
    "### Operators\n",
    "    - Highest to Lowest Precedence"
   ]
  },
  {
   "cell_type": "code",
   "execution_count": null,
   "id": "8afac49c",
   "metadata": {},
   "outputs": [
    {
     "data": {
      "text/plain": [
       "8"
      ]
     },
     "execution_count": 4,
     "metadata": {},
     "output_type": "execute_result"
    }
   ],
   "source": [
    "#Exponential\n",
    "2**3 "
   ]
  },
  {
   "cell_type": "code",
   "execution_count": null,
   "id": "c6b4a40b",
   "metadata": {},
   "outputs": [
    {
     "data": {
      "text/plain": [
       "6"
      ]
     },
     "execution_count": 5,
     "metadata": {},
     "output_type": "execute_result"
    }
   ],
   "source": [
    "#Modulus - return the remainder\n",
    "22%8 "
   ]
  },
  {
   "cell_type": "code",
   "execution_count": 6,
   "id": "494b4612",
   "metadata": {},
   "outputs": [
    {
     "data": {
      "text/plain": [
       "2"
      ]
     },
     "execution_count": 6,
     "metadata": {},
     "output_type": "execute_result"
    }
   ],
   "source": [
    "#Integer Division - Integer division is the same as regular division except the result is rounded down.\n",
    "22//8 "
   ]
  },
  {
   "cell_type": "code",
   "execution_count": 7,
   "id": "9a3fa1b7",
   "metadata": {},
   "outputs": [
    {
     "data": {
      "text/plain": [
       "2.75"
      ]
     },
     "execution_count": 7,
     "metadata": {},
     "output_type": "execute_result"
    }
   ],
   "source": [
    "#Division\n",
    "22/8"
   ]
  },
  {
   "cell_type": "code",
   "execution_count": 8,
   "id": "7fbe6816",
   "metadata": {},
   "outputs": [
    {
     "data": {
      "text/plain": [
       "176"
      ]
     },
     "execution_count": 8,
     "metadata": {},
     "output_type": "execute_result"
    }
   ],
   "source": [
    "#Multiplication\n",
    "22*8"
   ]
  },
  {
   "cell_type": "code",
   "execution_count": 9,
   "id": "fb3287a5",
   "metadata": {},
   "outputs": [
    {
     "data": {
      "text/plain": [
       "3"
      ]
     },
     "execution_count": 9,
     "metadata": {},
     "output_type": "execute_result"
    }
   ],
   "source": [
    "#Subtraction\n",
    "5-2"
   ]
  },
  {
   "cell_type": "code",
   "execution_count": 10,
   "id": "49e7b807",
   "metadata": {},
   "outputs": [
    {
     "data": {
      "text/plain": [
       "7"
      ]
     },
     "execution_count": 10,
     "metadata": {},
     "output_type": "execute_result"
    }
   ],
   "source": [
    "#Addition\n",
    "3+4"
   ]
  },
  {
   "cell_type": "markdown",
   "id": "ed7d296d",
   "metadata": {},
   "source": [
    "The order of operations (also called precedence) of Python math operators is similar to that of mathematics. The ** operator is evaluated first; the *, /, //, and % operators are evaluated next, from left to right; and the + and - operators are evaluated last (also from left to right). You can use parentheses to override the usual precedence if you need to. \n",
    "\n",
    "3 * 2\n",
    "Operator - *\n",
    "Operand - 3,2"
   ]
  },
  {
   "cell_type": "code",
   "execution_count": 11,
   "id": "31c261b3",
   "metadata": {},
   "outputs": [
    {
     "name": "stdout",
     "output_type": "stream",
     "text": [
      "20\n",
      "30\n",
      "28093077826734\n",
      "256\n",
      "3.2857142857142856\n",
      "3\n",
      "2\n",
      "4\n",
      "16.0\n"
     ]
    }
   ],
   "source": [
    "print(2+3*6)\n",
    "print((2+3)*6)\n",
    "print(48565878 * 578453)\n",
    "print(2**8)\n",
    "print(23/7)\n",
    "print(23//7)\n",
    "print(23%7)\n",
    "print(2+2)\n",
    "print( (5 - 1) * ((7 + 1) / (3 - 1)))"
   ]
  },
  {
   "cell_type": "markdown",
   "id": "f9248e05",
   "metadata": {},
   "source": [
    "###  The Integer, Floating-Point, and String Data Types"
   ]
  },
  {
   "cell_type": "markdown",
   "id": "97851e14",
   "metadata": {},
   "source": [
    "- Remember that expressions are just values combined with operators, and they always evaluate to a single value. A data type is a category for values, and every value belongs to exactly one data type. \n",
    "\n",
    "The most common Data Types:\n",
    "\n",
    "- Integer or int - values that are whole numbers.\n",
    "    - e.g. -2, -1, 0 ,1\n",
    "- Floating-point numbers or floats - Numbers with decimal point\n",
    "    - e.g. -1.25, -1.0, -0.5, 0.0, 1.0\n",
    "- Note that even though the value 42 is an integer, the value 42.0 would be a floating-point number.\n",
    "- One subtle detail about Python is that any math performed using an int and a float results in a float, not an int. \n",
    "- While 3 + 4 evaluates to the integer 7, the expression 3 + 4.0 evaluates to the floating-point number 7.0. Any division between two integers with the / division operator results in a float as well. For example, 16 / 4 evaluates to 4.0 and not 4. \n",
    "\n",
    "- String or str - Text values - Begin and ends with '\n",
    "    - e.g. 'a', 'aa', 'aaa', 'Hello', '11 cats'\n",
    "    - Python programs can also have text values called strings, or strs (pronounced stirs). Always surround your string in single-quote (') characters (as in 'Hello' or 'Goodbye cruel world!') so that Python knows where the string begins and ends. You can even have a string with no characters in it, '', called a blank string or an empty string. "
   ]
  },
  {
   "cell_type": "markdown",
   "id": "7dfe748a",
   "metadata": {},
   "source": [
    "### String Concatenation and Replication"
   ]
  },
  {
   "cell_type": "markdown",
   "id": "7965f84e",
   "metadata": {},
   "source": [
    "The meaning of an operator may change based on the data types of the values next to it. For example, + is the addition operator when it operates on two integers or floating-point values. However, when + is used to combine two string values, it joins the strings as the string concatenation operator."
   ]
  },
  {
   "cell_type": "code",
   "execution_count": 1,
   "id": "48ec7a6f",
   "metadata": {},
   "outputs": [
    {
     "data": {
      "text/plain": [
       "'AliceBob'"
      ]
     },
     "execution_count": 1,
     "metadata": {},
     "output_type": "execute_result"
    }
   ],
   "source": [
    "'Alice' + 'Bob'"
   ]
  },
  {
   "cell_type": "code",
   "execution_count": 2,
   "id": "241e29e8",
   "metadata": {},
   "outputs": [
    {
     "ename": "TypeError",
     "evalue": "can only concatenate str (not \"int\") to str",
     "output_type": "error",
     "traceback": [
      "\u001b[1;31m---------------------------------------------------------------------------\u001b[0m",
      "\u001b[1;31mTypeError\u001b[0m                                 Traceback (most recent call last)",
      "Cell \u001b[1;32mIn[2], line 2\u001b[0m\n\u001b[0;32m      1\u001b[0m \u001b[38;5;66;03m#String+integer will display error message\u001b[39;00m\n\u001b[1;32m----> 2\u001b[0m \u001b[38;5;124;43m'\u001b[39;49m\u001b[38;5;124;43mAlice\u001b[39;49m\u001b[38;5;124;43m'\u001b[39;49m\u001b[38;5;241;43m+\u001b[39;49m\u001b[38;5;241;43m23\u001b[39;49m\n",
      "\u001b[1;31mTypeError\u001b[0m: can only concatenate str (not \"int\") to str"
     ]
    }
   ],
   "source": [
    "#String+integer will display error message\n",
    "'Alice'+23"
   ]
  },
  {
   "cell_type": "markdown",
   "id": "27f27b17",
   "metadata": {},
   "source": [
    "The * operator multiplies two integer or floating-point values. But when \n",
    "the * operator is used on one string value and one integer value, it becomes \n",
    "the string replication operator."
   ]
  },
  {
   "cell_type": "code",
   "execution_count": 3,
   "id": "57f9543e",
   "metadata": {},
   "outputs": [
    {
     "data": {
      "text/plain": [
       "'AliceAliceAliceAliceAlice'"
      ]
     },
     "execution_count": 3,
     "metadata": {},
     "output_type": "execute_result"
    }
   ],
   "source": [
    "'Alice'*5"
   ]
  },
  {
   "cell_type": "markdown",
   "id": "660ed8bd",
   "metadata": {},
   "source": [
    "The * operator can only be used with two numeric values (for multipli\n",
    "cation), or one string value and one integer value (for string replication). "
   ]
  },
  {
   "cell_type": "code",
   "execution_count": 4,
   "id": "c7dd2847",
   "metadata": {},
   "outputs": [
    {
     "ename": "TypeError",
     "evalue": "can't multiply sequence by non-int of type 'str'",
     "output_type": "error",
     "traceback": [
      "\u001b[1;31m---------------------------------------------------------------------------\u001b[0m",
      "\u001b[1;31mTypeError\u001b[0m                                 Traceback (most recent call last)",
      "Cell \u001b[1;32mIn[4], line 1\u001b[0m\n\u001b[1;32m----> 1\u001b[0m \u001b[38;5;124;43m'\u001b[39;49m\u001b[38;5;124;43mAlice\u001b[39;49m\u001b[38;5;124;43m'\u001b[39;49m\u001b[38;5;241;43m*\u001b[39;49m\u001b[38;5;124;43m'\u001b[39;49m\u001b[38;5;124;43mBob\u001b[39;49m\u001b[38;5;124;43m'\u001b[39;49m\n",
      "\u001b[1;31mTypeError\u001b[0m: can't multiply sequence by non-int of type 'str'"
     ]
    }
   ],
   "source": [
    "'Alice'*'Bob'"
   ]
  },
  {
   "cell_type": "code",
   "execution_count": 5,
   "id": "8cbc697c",
   "metadata": {},
   "outputs": [
    {
     "ename": "TypeError",
     "evalue": "can't multiply sequence by non-int of type 'float'",
     "output_type": "error",
     "traceback": [
      "\u001b[1;31m---------------------------------------------------------------------------\u001b[0m",
      "\u001b[1;31mTypeError\u001b[0m                                 Traceback (most recent call last)",
      "Cell \u001b[1;32mIn[5], line 1\u001b[0m\n\u001b[1;32m----> 1\u001b[0m \u001b[38;5;124;43m'\u001b[39;49m\u001b[38;5;124;43mAlice\u001b[39;49m\u001b[38;5;124;43m'\u001b[39;49m\u001b[38;5;241;43m*\u001b[39;49m\u001b[38;5;241;43m5.0\u001b[39;49m\n",
      "\u001b[1;31mTypeError\u001b[0m: can't multiply sequence by non-int of type 'float'"
     ]
    }
   ],
   "source": [
    "'Alice'*5.0"
   ]
  },
  {
   "cell_type": "markdown",
   "id": "0521c798",
   "metadata": {},
   "source": [
    "### Storing Values in Variables"
   ]
  },
  {
   "cell_type": "markdown",
   "id": "3182f2e0",
   "metadata": {},
   "source": [
    "A variable is like a box in the computer’s memory where you can store a \n",
    "single value. If you want to use the result of an evaluated expression later in your program, you can save it inside a variable."
   ]
  },
  {
   "cell_type": "markdown",
   "id": "91e92d04",
   "metadata": {},
   "source": [
    "#### Assignment Statements\n",
    "- You’ll store values in variables with an assignment statement.\n",
    "- An assignment statement consists of a variable name, an equal sign (called the assignment operator), and the value to be stored. "
   ]
  },
  {
   "cell_type": "code",
   "execution_count": 6,
   "id": "2856fd06",
   "metadata": {},
   "outputs": [
    {
     "data": {
      "text/plain": [
       "40"
      ]
     },
     "execution_count": 6,
     "metadata": {},
     "output_type": "execute_result"
    }
   ],
   "source": [
    "spam=40\n",
    "spam"
   ]
  },
  {
   "cell_type": "code",
   "execution_count": 7,
   "id": "ce76dec2",
   "metadata": {},
   "outputs": [
    {
     "data": {
      "text/plain": [
       "42"
      ]
     },
     "execution_count": 7,
     "metadata": {},
     "output_type": "execute_result"
    }
   ],
   "source": [
    "b=2\n",
    "spam+b"
   ]
  },
  {
   "cell_type": "code",
   "execution_count": 8,
   "id": "a71130fd",
   "metadata": {},
   "outputs": [
    {
     "data": {
      "text/plain": [
       "'Hello'"
      ]
     },
     "execution_count": 8,
     "metadata": {},
     "output_type": "execute_result"
    }
   ],
   "source": [
    "spam='Hello'\n",
    "spam"
   ]
  },
  {
   "cell_type": "markdown",
   "id": "e17318a8",
   "metadata": {},
   "source": [
    "#### Variable Names"
   ]
  },
  {
   "cell_type": "markdown",
   "id": "995042d0",
   "metadata": {},
   "source": [
    "Though you can name your variables almost anything, Python does have some naming restrictions. Your variable name must obey the following four rules:\n",
    "- It can’t have spaces.\n",
    "- It can use only letters, numbers, and the underscore (_) character.\n",
    "- It can’t begin with a number.\n",
    "- It can’t be a Python keyword, such as if, for, return, or other keywords "
   ]
  },
  {
   "cell_type": "markdown",
   "id": "f1def79a",
   "metadata": {},
   "source": [
    "##### VALID VARIABLE NAMES &emsp; &emsp; &emsp; INVALID VARIABLE NAMES"
   ]
  },
  {
   "cell_type": "markdown",
   "id": "3d6332de",
   "metadata": {},
   "source": [
    "current_balance &emsp;&emsp;&emsp;&emsp;&emsp;&emsp;&emsp;&emsp;&emsp;&emsp;current-balance(hyphens not allowed)<br>currentBalance&emsp;&emsp;&emsp;&emsp;&emsp;&emsp;&emsp;&emsp;&emsp;&emsp;&ensp;&nbsp;current balance(spaces are not allowed)<br>account4&emsp;&emsp;&emsp;&emsp;&emsp;&emsp;&emsp;&emsp;&emsp;&emsp;&ensp;&emsp;&emsp;&ensp; 4account(Can't begin with a number)<br>\n",
    "_42&emsp;&emsp;&emsp;&emsp;&emsp;&emsp;&emsp;&emsp;&emsp;&emsp;&ensp;&emsp;&emsp;&ensp;&emsp;&emsp;&emsp;42(can begin with an _ but not an number)<br>\n",
    "TOTAL_SUM&emsp;&emsp;&emsp;&emsp;&emsp;&emsp;&emsp;&emsp;&ensp;&emsp;&emsp;&ensp;&emsp;TOTAL_$UM(spl characters like $ not allowed)<br>hello&emsp;&emsp;&emsp;&emsp;&emsp;&emsp;&emsp;&emsp;&emsp;&emsp;&emsp;&emsp;&ensp;&ensp;&emsp;&emsp;'hello'(spl characters like ' are not allowed)"
   ]
  },
  {
   "cell_type": "markdown",
   "id": "fd8611b3",
   "metadata": {},
   "source": [
    "Variable names are case-sensitive, meaning that spam, SPAM, Spam, and sPaM \n",
    "are four different variables. It is a Python convention to start your variables with a lowercase letter: spam instead of Spam"
   ]
  }
 ],
 "metadata": {
  "kernelspec": {
   "display_name": "Python 3",
   "language": "python",
   "name": "python3"
  },
  "language_info": {
   "codemirror_mode": {
    "name": "ipython",
    "version": 3
   },
   "file_extension": ".py",
   "mimetype": "text/x-python",
   "name": "python",
   "nbconvert_exporter": "python",
   "pygments_lexer": "ipython3",
   "version": "3.10.3"
  }
 },
 "nbformat": 4,
 "nbformat_minor": 5
}
