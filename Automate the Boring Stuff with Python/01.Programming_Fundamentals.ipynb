{
 "cells": [
  {
   "cell_type": "markdown",
   "id": "78c36992",
   "metadata": {},
   "source": [
    "### Operators\n",
    "    - Highest to Lowest Precedence"
   ]
  },
  {
   "cell_type": "code",
   "execution_count": null,
   "id": "8afac49c",
   "metadata": {},
   "outputs": [
    {
     "data": {
      "text/plain": [
       "8"
      ]
     },
     "execution_count": 4,
     "metadata": {},
     "output_type": "execute_result"
    }
   ],
   "source": [
    "#Exponential\n",
    "2**3 "
   ]
  },
  {
   "cell_type": "code",
   "execution_count": null,
   "id": "c6b4a40b",
   "metadata": {},
   "outputs": [
    {
     "data": {
      "text/plain": [
       "6"
      ]
     },
     "execution_count": 5,
     "metadata": {},
     "output_type": "execute_result"
    }
   ],
   "source": [
    "#Modulus - return the remainder\n",
    "22%8 "
   ]
  },
  {
   "cell_type": "code",
   "execution_count": 6,
   "id": "494b4612",
   "metadata": {},
   "outputs": [
    {
     "data": {
      "text/plain": [
       "2"
      ]
     },
     "execution_count": 6,
     "metadata": {},
     "output_type": "execute_result"
    }
   ],
   "source": [
    "#Integer Division - Integer division is the same as regular division except the result is rounded down.\n",
    "22//8 "
   ]
  },
  {
   "cell_type": "code",
   "execution_count": 7,
   "id": "9a3fa1b7",
   "metadata": {},
   "outputs": [
    {
     "data": {
      "text/plain": [
       "2.75"
      ]
     },
     "execution_count": 7,
     "metadata": {},
     "output_type": "execute_result"
    }
   ],
   "source": [
    "#Division\n",
    "22/8"
   ]
  },
  {
   "cell_type": "code",
   "execution_count": 8,
   "id": "7fbe6816",
   "metadata": {},
   "outputs": [
    {
     "data": {
      "text/plain": [
       "176"
      ]
     },
     "execution_count": 8,
     "metadata": {},
     "output_type": "execute_result"
    }
   ],
   "source": [
    "#Multiplication\n",
    "22*8"
   ]
  },
  {
   "cell_type": "code",
   "execution_count": 9,
   "id": "fb3287a5",
   "metadata": {},
   "outputs": [
    {
     "data": {
      "text/plain": [
       "3"
      ]
     },
     "execution_count": 9,
     "metadata": {},
     "output_type": "execute_result"
    }
   ],
   "source": [
    "#Subtraction\n",
    "5-2"
   ]
  },
  {
   "cell_type": "code",
   "execution_count": 10,
   "id": "49e7b807",
   "metadata": {},
   "outputs": [
    {
     "data": {
      "text/plain": [
       "7"
      ]
     },
     "execution_count": 10,
     "metadata": {},
     "output_type": "execute_result"
    }
   ],
   "source": [
    "#Addition\n",
    "3+4"
   ]
  },
  {
   "cell_type": "markdown",
   "id": "ed7d296d",
   "metadata": {},
   "source": [
    "The order of operations (also called precedence) of Python math operators is similar to that of mathematics. The ** operator is evaluated first; the *, /, //, and % operators are evaluated next, from left to right; and the + and - operators are evaluated last (also from left to right). You can use parentheses to override the usual precedence if you need to. \n",
    "\n",
    "3 * 2\n",
    "Operator - *\n",
    "Operand - 3,2"
   ]
  },
  {
   "cell_type": "code",
   "execution_count": 11,
   "id": "31c261b3",
   "metadata": {},
   "outputs": [
    {
     "name": "stdout",
     "output_type": "stream",
     "text": [
      "20\n",
      "30\n",
      "28093077826734\n",
      "256\n",
      "3.2857142857142856\n",
      "3\n",
      "2\n",
      "4\n",
      "16.0\n"
     ]
    }
   ],
   "source": [
    "print(2+3*6)\n",
    "print((2+3)*6)\n",
    "print(48565878 * 578453)\n",
    "print(2**8)\n",
    "print(23/7)\n",
    "print(23//7)\n",
    "print(23%7)\n",
    "print(2+2)\n",
    "print( (5 - 1) * ((7 + 1) / (3 - 1)))"
   ]
  },
  {
   "cell_type": "markdown",
   "id": "f9248e05",
   "metadata": {},
   "source": [
    "###  The Integer, Floating-Point, and String Data Types"
   ]
  },
  {
   "cell_type": "markdown",
   "id": "97851e14",
   "metadata": {},
   "source": [
    "- Remember that expressions are just values combined with operators, and they always evaluate to a single value. A data type is a category for values, and every value belongs to exactly one data type. \n",
    "\n",
    "The most common Data Types:\n",
    "\n",
    "- Integer or int - values that are whole numbers.\n",
    "    - e.g. -2, -1, 0 ,1\n",
    "- Floating-point numbers or floats - Numbers with decimal point\n",
    "    - e.g. -1.25, -1.0, -0.5, 0.0, 1.0\n",
    "- Note that even though the value 42 is an integer, the value 42.0 would be a floating-point number.\n",
    "- One subtle detail about Python is that any math performed using an int and a float results in a float, not an int. \n",
    "- While 3 + 4 evaluates to the integer 7, the expression 3 + 4.0 evaluates to the floating-point number 7.0. Any division between two integers with the / division operator results in a float as well. For example, 16 / 4 evaluates to 4.0 and not 4. \n",
    "\n",
    "- String or str - Text values - Begin and ends with '\n",
    "    - e.g. 'a', 'aa', 'aaa', 'Hello', '11 cats'\n",
    "    - Python programs can also have text values called strings, or strs (pronounced stirs). Always surround your string in single-quote (') characters (as in 'Hello' or 'Goodbye cruel world!') so that Python knows where the string begins and ends. You can even have a string with no characters in it, '', called a blank string or an empty string. "
   ]
  },
  {
   "cell_type": "markdown",
   "id": "7dfe748a",
   "metadata": {},
   "source": [
    "### String Concatenation and Replication"
   ]
  },
  {
   "cell_type": "markdown",
   "id": "7965f84e",
   "metadata": {},
   "source": [
    "The meaning of an operator may change based on the data types of the values next to it. For example, + is the addition operator when it operates on two integers or floating-point values. However, when + is used to combine two string values, it joins the strings as the string concatenation operator."
   ]
  },
  {
   "cell_type": "code",
   "execution_count": 1,
   "id": "48ec7a6f",
   "metadata": {},
   "outputs": [
    {
     "data": {
      "text/plain": [
       "'AliceBob'"
      ]
     },
     "execution_count": 1,
     "metadata": {},
     "output_type": "execute_result"
    }
   ],
   "source": [
    "'Alice' + 'Bob'"
   ]
  },
  {
   "cell_type": "code",
   "execution_count": 2,
   "id": "241e29e8",
   "metadata": {},
   "outputs": [
    {
     "ename": "TypeError",
     "evalue": "can only concatenate str (not \"int\") to str",
     "output_type": "error",
     "traceback": [
      "\u001b[1;31m---------------------------------------------------------------------------\u001b[0m",
      "\u001b[1;31mTypeError\u001b[0m                                 Traceback (most recent call last)",
      "Cell \u001b[1;32mIn[2], line 2\u001b[0m\n\u001b[0;32m      1\u001b[0m \u001b[38;5;66;03m#String+integer will display error message\u001b[39;00m\n\u001b[1;32m----> 2\u001b[0m \u001b[38;5;124;43m'\u001b[39;49m\u001b[38;5;124;43mAlice\u001b[39;49m\u001b[38;5;124;43m'\u001b[39;49m\u001b[38;5;241;43m+\u001b[39;49m\u001b[38;5;241;43m23\u001b[39;49m\n",
      "\u001b[1;31mTypeError\u001b[0m: can only concatenate str (not \"int\") to str"
     ]
    }
   ],
   "source": [
    "#String+integer will display error message\n",
    "'Alice'+23"
   ]
  },
  {
   "cell_type": "markdown",
   "id": "27f27b17",
   "metadata": {},
   "source": [
    "The * operator multiplies two integer or floating-point values. But when \n",
    "the * operator is used on one string value and one integer value, it becomes \n",
    "the string replication operator."
   ]
  },
  {
   "cell_type": "code",
   "execution_count": 3,
   "id": "57f9543e",
   "metadata": {},
   "outputs": [
    {
     "data": {
      "text/plain": [
       "'AliceAliceAliceAliceAlice'"
      ]
     },
     "execution_count": 3,
     "metadata": {},
     "output_type": "execute_result"
    }
   ],
   "source": [
    "'Alice'*5"
   ]
  },
  {
   "cell_type": "markdown",
   "id": "660ed8bd",
   "metadata": {},
   "source": [
    "The * operator can only be used with two numeric values (for multipli\n",
    "cation), or one string value and one integer value (for string replication). "
   ]
  },
  {
   "cell_type": "code",
   "execution_count": 4,
   "id": "c7dd2847",
   "metadata": {},
   "outputs": [
    {
     "ename": "TypeError",
     "evalue": "can't multiply sequence by non-int of type 'str'",
     "output_type": "error",
     "traceback": [
      "\u001b[1;31m---------------------------------------------------------------------------\u001b[0m",
      "\u001b[1;31mTypeError\u001b[0m                                 Traceback (most recent call last)",
      "Cell \u001b[1;32mIn[4], line 1\u001b[0m\n\u001b[1;32m----> 1\u001b[0m \u001b[38;5;124;43m'\u001b[39;49m\u001b[38;5;124;43mAlice\u001b[39;49m\u001b[38;5;124;43m'\u001b[39;49m\u001b[38;5;241;43m*\u001b[39;49m\u001b[38;5;124;43m'\u001b[39;49m\u001b[38;5;124;43mBob\u001b[39;49m\u001b[38;5;124;43m'\u001b[39;49m\n",
      "\u001b[1;31mTypeError\u001b[0m: can't multiply sequence by non-int of type 'str'"
     ]
    }
   ],
   "source": [
    "'Alice'*'Bob'"
   ]
  },
  {
   "cell_type": "code",
   "execution_count": 5,
   "id": "8cbc697c",
   "metadata": {},
   "outputs": [
    {
     "ename": "TypeError",
     "evalue": "can't multiply sequence by non-int of type 'float'",
     "output_type": "error",
     "traceback": [
      "\u001b[1;31m---------------------------------------------------------------------------\u001b[0m",
      "\u001b[1;31mTypeError\u001b[0m                                 Traceback (most recent call last)",
      "Cell \u001b[1;32mIn[5], line 1\u001b[0m\n\u001b[1;32m----> 1\u001b[0m \u001b[38;5;124;43m'\u001b[39;49m\u001b[38;5;124;43mAlice\u001b[39;49m\u001b[38;5;124;43m'\u001b[39;49m\u001b[38;5;241;43m*\u001b[39;49m\u001b[38;5;241;43m5.0\u001b[39;49m\n",
      "\u001b[1;31mTypeError\u001b[0m: can't multiply sequence by non-int of type 'float'"
     ]
    }
   ],
   "source": [
    "'Alice'*5.0"
   ]
  },
  {
   "cell_type": "markdown",
   "id": "0521c798",
   "metadata": {},
   "source": [
    "### Storing Values in Variables"
   ]
  },
  {
   "cell_type": "markdown",
   "id": "3182f2e0",
   "metadata": {},
   "source": [
    "A variable is like a box in the computer’s memory where you can store a \n",
    "single value. If you want to use the result of an evaluated expression later in your program, you can save it inside a variable."
   ]
  },
  {
   "cell_type": "markdown",
   "id": "91e92d04",
   "metadata": {},
   "source": [
    "#### Assignment Statements\n",
    "- You’ll store values in variables with an assignment statement.\n",
    "- An assignment statement consists of a variable name, an equal sign (called the assignment operator), and the value to be stored. "
   ]
  },
  {
   "cell_type": "code",
   "execution_count": 6,
   "id": "2856fd06",
   "metadata": {},
   "outputs": [
    {
     "data": {
      "text/plain": [
       "40"
      ]
     },
     "execution_count": 6,
     "metadata": {},
     "output_type": "execute_result"
    }
   ],
   "source": [
    "spam=40\n",
    "spam"
   ]
  },
  {
   "cell_type": "code",
   "execution_count": 7,
   "id": "ce76dec2",
   "metadata": {},
   "outputs": [
    {
     "data": {
      "text/plain": [
       "42"
      ]
     },
     "execution_count": 7,
     "metadata": {},
     "output_type": "execute_result"
    }
   ],
   "source": [
    "b=2\n",
    "spam+b"
   ]
  },
  {
   "cell_type": "code",
   "execution_count": 8,
   "id": "a71130fd",
   "metadata": {},
   "outputs": [
    {
     "data": {
      "text/plain": [
       "'Hello'"
      ]
     },
     "execution_count": 8,
     "metadata": {},
     "output_type": "execute_result"
    }
   ],
   "source": [
    "spam='Hello'\n",
    "spam"
   ]
  },
  {
   "cell_type": "markdown",
   "id": "e17318a8",
   "metadata": {},
   "source": [
    "#### Variable Names"
   ]
  },
  {
   "cell_type": "markdown",
   "id": "995042d0",
   "metadata": {},
   "source": [
    "Though you can name your variables almost anything, Python does have some naming restrictions. Your variable name must obey the following four rules:\n",
    "- It can’t have spaces.\n",
    "- It can use only letters, numbers, and the underscore (_) character.\n",
    "- It can’t begin with a number.\n",
    "- It can’t be a Python keyword, such as if, for, return, or other keywords "
   ]
  },
  {
   "cell_type": "markdown",
   "id": "f1def79a",
   "metadata": {},
   "source": [
    "##### VALID VARIABLE NAMES &emsp; &emsp; &emsp; INVALID VARIABLE NAMES"
   ]
  },
  {
   "cell_type": "markdown",
   "id": "3d6332de",
   "metadata": {},
   "source": [
    "current_balance &emsp;&emsp;&emsp;&emsp;&emsp;&emsp;&emsp;&emsp;&emsp;&emsp;current-balance(hyphens not allowed)<br>currentBalance&emsp;&emsp;&emsp;&emsp;&emsp;&emsp;&emsp;&emsp;&emsp;&emsp;&ensp;&nbsp;current balance(spaces are not allowed)<br>account4&emsp;&emsp;&emsp;&emsp;&emsp;&emsp;&emsp;&emsp;&emsp;&emsp;&ensp;&emsp;&emsp;&ensp; 4account(Can't begin with a number)<br>\n",
    "_42&emsp;&emsp;&emsp;&emsp;&emsp;&emsp;&emsp;&emsp;&emsp;&emsp;&ensp;&emsp;&emsp;&ensp;&emsp;&emsp;&emsp;42(can begin with an _ but not an number)<br>\n",
    "TOTAL_SUM&emsp;&emsp;&emsp;&emsp;&emsp;&emsp;&emsp;&emsp;&ensp;&emsp;&emsp;&ensp;&emsp;TOTAL_$UM(spl characters like $ not allowed)<br>hello&emsp;&emsp;&emsp;&emsp;&emsp;&emsp;&emsp;&emsp;&emsp;&emsp;&emsp;&emsp;&ensp;&ensp;&emsp;&emsp;'hello'(spl characters like ' are not allowed)"
   ]
  },
  {
   "cell_type": "markdown",
   "id": "fd8611b3",
   "metadata": {},
   "source": [
    "Variable names are case-sensitive, meaning that spam, SPAM, Spam, and sPaM \n",
    "are four different variables. It is a Python convention to start your variables with a lowercase letter: spam instead of Spam"
   ]
  },
  {
   "cell_type": "markdown",
   "id": "2fed4f69",
   "metadata": {},
   "source": [
    "### Your First Program"
   ]
  },
  {
   "cell_type": "code",
   "execution_count": 3,
   "id": "e6d5c9e3",
   "metadata": {},
   "outputs": [
    {
     "name": "stdout",
     "output_type": "stream",
     "text": [
      "Hello, world!\n",
      "What is your name?\n",
      "It is good to meet you, ram\n",
      "The length of your name is:\n",
      "3\n",
      "What is your age?\n",
      "You will be 27 in a year.\n"
     ]
    }
   ],
   "source": [
    " # This program says hello and asks for my name. \n",
    "print('Hello, world!')\n",
    "print('What is your name?')  # Ask for their name.\n",
    "my_name = input('>')\n",
    "print('It is good to meet you, ' + my_name)\n",
    "print('The length of your name is:')\n",
    "print(len(my_name))\n",
    "print('What is your age?')  # Ask for their age.\n",
    "my_age = input('>')\n",
    "print('You will be ' + str(int(my_age) + 1) + ' in a year.')"
   ]
  },
  {
   "cell_type": "markdown",
   "id": "b14657dd",
   "metadata": {},
   "source": [
    "## Dissecting the Program"
   ]
  },
  {
   "cell_type": "markdown",
   "id": "21323db6",
   "metadata": {},
   "source": [
    "### Comments"
   ]
  },
  {
   "cell_type": "markdown",
   "id": "c4dda5d9",
   "metadata": {},
   "source": [
    "The following Line is called a comment"
   ]
  },
  {
   "cell_type": "code",
   "execution_count": 4,
   "id": "f1150785",
   "metadata": {},
   "outputs": [],
   "source": [
    " # This program says hello and asks for my name. "
   ]
  },
  {
   "cell_type": "markdown",
   "id": "7573dab5",
   "metadata": {},
   "source": [
    "Python ignores comments, and you can use them to write notes or remind yourself what the code is trying to do. Any text for the rest of the line following a hash mark (#) is part of a comment.\n",
    "Sometimes programmers will put a # in front of a line of code to tem\n",
    "porarily remove it while testing a program. This is called commenting out \n",
    "code"
   ]
  },
  {
   "cell_type": "markdown",
   "id": "1e691a4f",
   "metadata": {},
   "source": [
    "### print() Function"
   ]
  },
  {
   "cell_type": "markdown",
   "id": "af35d19b",
   "metadata": {},
   "source": [
    "The print() function displays the string value inside its parentheses on the screen"
   ]
  },
  {
   "cell_type": "code",
   "execution_count": 5,
   "id": "8a77ac0f",
   "metadata": {},
   "outputs": [
    {
     "name": "stdout",
     "output_type": "stream",
     "text": [
      "Hello, world!\n",
      "What is your name?\n"
     ]
    }
   ],
   "source": [
    "print('Hello, world!')\n",
    "print('What is your name?')  # Ask for their name."
   ]
  },
  {
   "cell_type": "markdown",
   "id": "6f3cec59",
   "metadata": {},
   "source": [
    "The line print('Hello, world!') means “Print out the text in the string 'Hello, world!'.” When Python executes this line, you say that Python is calling the print() function and the string value is being passed to the function. A value that is passed to a function call is an argument. Notice that the quotes are not printed to the screen. They just mark where the string \n",
    "begins and ends; they are not part of the string value’s text."
   ]
  },
  {
   "cell_type": "markdown",
   "id": "38cb1163",
   "metadata": {},
   "source": [
    "#### Note\n",
    "You can also use this function to display a blank line on the screen; call print() with nothing in between the parentheses."
   ]
  },
  {
   "cell_type": "markdown",
   "id": "a7991b3f",
   "metadata": {},
   "source": [
    "### The input() Function"
   ]
  },
  {
   "cell_type": "markdown",
   "id": "f92b3457",
   "metadata": {},
   "source": [
    "The input() function waits for the user to type some text on the keyboard \n",
    "and press enter"
   ]
  },
  {
   "cell_type": "code",
   "execution_count": 6,
   "id": "2b4da8f2",
   "metadata": {},
   "outputs": [],
   "source": [
    "my_name = input('>')"
   ]
  },
  {
   "cell_type": "markdown",
   "id": "f9c9911d",
   "metadata": {},
   "source": [
    "This function call evaluates to a string identical to the user’s text, and \n",
    "the rest of the code assigns the my_name variable to this string value. "
   ]
  },
  {
   "cell_type": "markdown",
   "id": "bb97eb66",
   "metadata": {},
   "source": [
    "### The Greeting Message"
   ]
  },
  {
   "cell_type": "markdown",
   "id": "36b893fc",
   "metadata": {},
   "source": [
    "The following call to print() contains the expression 'It is good to meet \n",
    "you, ' + my_name between the parentheses:"
   ]
  },
  {
   "cell_type": "code",
   "execution_count": 7,
   "id": "3afe0f3e",
   "metadata": {},
   "outputs": [
    {
     "name": "stdout",
     "output_type": "stream",
     "text": [
      "It is good to meet you, Ram\n"
     ]
    }
   ],
   "source": [
    "print('It is good to meet you, ' + my_name)"
   ]
  },
  {
   "cell_type": "markdown",
   "id": "b5958ded",
   "metadata": {},
   "source": [
    "### The len() Function"
   ]
  },
  {
   "cell_type": "markdown",
   "id": "abe17697",
   "metadata": {},
   "source": [
    "You can pass the len() function a string value (or a variable containing a \n",
    "string), and the function evaluates to the integer value of the number of \n",
    "characters in that string:"
   ]
  },
  {
   "cell_type": "code",
   "execution_count": 8,
   "id": "5183fb4a",
   "metadata": {},
   "outputs": [
    {
     "name": "stdout",
     "output_type": "stream",
     "text": [
      "The length of your name is:\n",
      "3\n"
     ]
    }
   ],
   "source": [
    "print('The length of your name is:')\n",
    "print(len(my_name))"
   ]
  },
  {
   "cell_type": "markdown",
   "id": "9ce4ec0c",
   "metadata": {},
   "source": [
    "Just like in those examples, len(my_name) evaluates to an integer. We \n",
    "say that the len() function call returns or outputs this integer value, and the value is the function call’s return value. It is then passed to print() to be displayed on the screen. The print() function allows you to pass it either \n",
    "integer values or string values"
   ]
  },
  {
   "cell_type": "markdown",
   "id": "af9ef977",
   "metadata": {},
   "source": [
    "### The str(), int(), and float() Functions"
   ]
  },
  {
   "cell_type": "markdown",
   "id": "fced7677",
   "metadata": {},
   "source": [
    "If you want to concatenate an integer such as 29 with a string to pass to \n",
    "print(), you’ll need to get the value '29', which is the string form of 29. The str() function can be passed an integer value and will return a string value \n",
    "version of the integer, as follows:"
   ]
  },
  {
   "cell_type": "code",
   "execution_count": null,
   "id": "edecd376",
   "metadata": {},
   "outputs": [
    {
     "name": "stdout",
     "output_type": "stream",
     "text": [
      "I am 29 years old\n"
     ]
    }
   ],
   "source": [
    "str(25)\n",
    "print('I am '+ str(29)+' years old')"
   ]
  },
  {
   "cell_type": "code",
   "execution_count": 12,
   "id": "3a68a6aa",
   "metadata": {},
   "outputs": [
    {
     "data": {
      "text/plain": [
       "'0'"
      ]
     },
     "execution_count": 12,
     "metadata": {},
     "output_type": "execute_result"
    }
   ],
   "source": [
    "str(0)"
   ]
  },
  {
   "cell_type": "code",
   "execution_count": 13,
   "id": "c82be18c",
   "metadata": {},
   "outputs": [
    {
     "data": {
      "text/plain": [
       "'-3.14'"
      ]
     },
     "execution_count": 13,
     "metadata": {},
     "output_type": "execute_result"
    }
   ],
   "source": [
    "str(-3.14)"
   ]
  },
  {
   "cell_type": "code",
   "execution_count": 14,
   "id": "569a12d9",
   "metadata": {},
   "outputs": [
    {
     "data": {
      "text/plain": [
       "42"
      ]
     },
     "execution_count": 14,
     "metadata": {},
     "output_type": "execute_result"
    }
   ],
   "source": [
    "int('42')"
   ]
  },
  {
   "cell_type": "code",
   "execution_count": 15,
   "id": "55b94567",
   "metadata": {},
   "outputs": [
    {
     "data": {
      "text/plain": [
       "1"
      ]
     },
     "execution_count": 15,
     "metadata": {},
     "output_type": "execute_result"
    }
   ],
   "source": [
    "int(1.25)"
   ]
  },
  {
   "cell_type": "code",
   "execution_count": 16,
   "id": "931a330c",
   "metadata": {},
   "outputs": [
    {
     "data": {
      "text/plain": [
       "3.14"
      ]
     },
     "execution_count": 16,
     "metadata": {},
     "output_type": "execute_result"
    }
   ],
   "source": [
    "float('3.14')"
   ]
  },
  {
   "cell_type": "code",
   "execution_count": 17,
   "id": "512700ab",
   "metadata": {},
   "outputs": [
    {
     "data": {
      "text/plain": [
       "10.0"
      ]
     },
     "execution_count": 17,
     "metadata": {},
     "output_type": "execute_result"
    }
   ],
   "source": [
    "float(10)"
   ]
  },
  {
   "cell_type": "markdown",
   "id": "ab2fba5b",
   "metadata": {},
   "source": [
    "- The previous examples call the str(), int(), and float() functions and \n",
    "pass them values of the other data types to obtain a string, integer, or floating- point form of those values.\n",
    "- The str() function is handy when you have an integer or float that you \n",
    "want to concatenate to a string. The int() function is also helpful if you \n",
    "have a number as a string value that you want to use in some mathematics. "
   ]
  },
  {
   "cell_type": "markdown",
   "id": "c7831325",
   "metadata": {},
   "source": [
    "#### Note\n",
    "if you pass a value to int() that it cannot evaluate as an integer, Python will display an error message:"
   ]
  },
  {
   "cell_type": "code",
   "execution_count": 18,
   "id": "342a05df",
   "metadata": {},
   "outputs": [
    {
     "ename": "ValueError",
     "evalue": "invalid literal for int() with base 10: '99.99'",
     "output_type": "error",
     "traceback": [
      "\u001b[1;31m---------------------------------------------------------------------------\u001b[0m",
      "\u001b[1;31mValueError\u001b[0m                                Traceback (most recent call last)",
      "Cell \u001b[1;32mIn[18], line 1\u001b[0m\n\u001b[1;32m----> 1\u001b[0m \u001b[38;5;28;43mint\u001b[39;49m\u001b[43m(\u001b[49m\u001b[38;5;124;43m'\u001b[39;49m\u001b[38;5;124;43m99.99\u001b[39;49m\u001b[38;5;124;43m'\u001b[39;49m\u001b[43m)\u001b[49m\n",
      "\u001b[1;31mValueError\u001b[0m: invalid literal for int() with base 10: '99.99'"
     ]
    }
   ],
   "source": [
    "int('99.99')"
   ]
  },
  {
   "cell_type": "code",
   "execution_count": 19,
   "id": "22508079",
   "metadata": {},
   "outputs": [
    {
     "ename": "ValueError",
     "evalue": "invalid literal for int() with base 10: 'Twelve'",
     "output_type": "error",
     "traceback": [
      "\u001b[1;31m---------------------------------------------------------------------------\u001b[0m",
      "\u001b[1;31mValueError\u001b[0m                                Traceback (most recent call last)",
      "Cell \u001b[1;32mIn[19], line 1\u001b[0m\n\u001b[1;32m----> 1\u001b[0m \u001b[38;5;28;43mint\u001b[39;49m\u001b[43m(\u001b[49m\u001b[38;5;124;43m'\u001b[39;49m\u001b[38;5;124;43mTwelve\u001b[39;49m\u001b[38;5;124;43m'\u001b[39;49m\u001b[43m)\u001b[49m\n",
      "\u001b[1;31mValueError\u001b[0m: invalid literal for int() with base 10: 'Twelve'"
     ]
    }
   ],
   "source": [
    "int('Twelve')"
   ]
  },
  {
   "cell_type": "markdown",
   "id": "920db21b",
   "metadata": {},
   "source": [
    "The int() function is also useful if you need to round a floating-point \n",
    "number down:"
   ]
  },
  {
   "cell_type": "code",
   "execution_count": 20,
   "id": "ddddc8f6",
   "metadata": {},
   "outputs": [
    {
     "data": {
      "text/plain": [
       "7"
      ]
     },
     "execution_count": 20,
     "metadata": {},
     "output_type": "execute_result"
    }
   ],
   "source": [
    "int(7.7)"
   ]
  },
  {
   "cell_type": "markdown",
   "id": "02806dcd",
   "metadata": {},
   "source": [
    "#### Text and Number Equivalence"
   ]
  },
  {
   "cell_type": "markdown",
   "id": "9ad7ca39",
   "metadata": {},
   "source": [
    " Although the string value of a number is considered a completely different value from the integer or floating-point version, an integer can be equal to a floating point:"
   ]
  },
  {
   "cell_type": "code",
   "execution_count": 21,
   "id": "9fdcebc7",
   "metadata": {},
   "outputs": [
    {
     "data": {
      "text/plain": [
       "False"
      ]
     },
     "execution_count": 21,
     "metadata": {},
     "output_type": "execute_result"
    }
   ],
   "source": [
    "42=='42'"
   ]
  },
  {
   "cell_type": "code",
   "execution_count": 22,
   "id": "4a36204d",
   "metadata": {},
   "outputs": [
    {
     "data": {
      "text/plain": [
       "True"
      ]
     },
     "execution_count": 22,
     "metadata": {},
     "output_type": "execute_result"
    }
   ],
   "source": [
    "42==42.0"
   ]
  },
  {
   "cell_type": "code",
   "execution_count": 23,
   "id": "ad26011f",
   "metadata": {},
   "outputs": [
    {
     "data": {
      "text/plain": [
       "True"
      ]
     },
     "execution_count": 23,
     "metadata": {},
     "output_type": "execute_result"
    }
   ],
   "source": [
    "42.00==00042.000"
   ]
  },
  {
   "cell_type": "markdown",
   "id": "b9d6ccc8",
   "metadata": {},
   "source": [
    "#### The type() Function"
   ]
  },
  {
   "cell_type": "markdown",
   "id": "1052d0cd",
   "metadata": {},
   "source": [
    "Integer, floating-point, and string aren’t the only data types in Python.\n",
    "You can always pass these to the type() function to determine what type they are."
   ]
  },
  {
   "cell_type": "code",
   "execution_count": null,
   "id": "5b7d74f2",
   "metadata": {},
   "outputs": [
    {
     "data": {
      "text/plain": [
       "float"
      ]
     },
     "execution_count": 24,
     "metadata": {},
     "output_type": "execute_result"
    }
   ],
   "source": [
    "type(42)"
   ]
  },
  {
   "cell_type": "code",
   "execution_count": 25,
   "id": "5d1637f1",
   "metadata": {},
   "outputs": [
    {
     "data": {
      "text/plain": [
       "float"
      ]
     },
     "execution_count": 25,
     "metadata": {},
     "output_type": "execute_result"
    }
   ],
   "source": [
    "type(42.0)"
   ]
  },
  {
   "cell_type": "code",
   "execution_count": 26,
   "id": "d50f502b",
   "metadata": {},
   "outputs": [
    {
     "data": {
      "text/plain": [
       "str"
      ]
     },
     "execution_count": 26,
     "metadata": {},
     "output_type": "execute_result"
    }
   ],
   "source": [
    "type('Forty two')"
   ]
  },
  {
   "cell_type": "code",
   "execution_count": 27,
   "id": "52bb050d",
   "metadata": {},
   "outputs": [
    {
     "data": {
      "text/plain": [
       "str"
      ]
     },
     "execution_count": 27,
     "metadata": {},
     "output_type": "execute_result"
    }
   ],
   "source": [
    "name='Ram'\n",
    "type(name)"
   ]
  },
  {
   "cell_type": "code",
   "execution_count": 28,
   "id": "7693e633",
   "metadata": {},
   "outputs": [
    {
     "data": {
      "text/plain": [
       "int"
      ]
     },
     "execution_count": 28,
     "metadata": {},
     "output_type": "execute_result"
    }
   ],
   "source": [
    "type(len(name))"
   ]
  },
  {
   "cell_type": "markdown",
   "id": "fd49d285",
   "metadata": {},
   "source": [
    "### The round() and abs() Functions"
   ]
  },
  {
   "cell_type": "markdown",
   "id": "41336eb2",
   "metadata": {},
   "source": [
    "The round() function accepts a float value and returns the nearest integer."
   ]
  },
  {
   "cell_type": "code",
   "execution_count": 29,
   "id": "ad0472fa",
   "metadata": {},
   "outputs": [
    {
     "data": {
      "text/plain": [
       "3"
      ]
     },
     "execution_count": 29,
     "metadata": {},
     "output_type": "execute_result"
    }
   ],
   "source": [
    "round(3.14)"
   ]
  },
  {
   "cell_type": "code",
   "execution_count": 30,
   "id": "3fdbb3fe",
   "metadata": {},
   "outputs": [
    {
     "data": {
      "text/plain": [
       "8"
      ]
     },
     "execution_count": 30,
     "metadata": {},
     "output_type": "execute_result"
    }
   ],
   "source": [
    "round(7.7)"
   ]
  },
  {
   "cell_type": "code",
   "execution_count": 31,
   "id": "2d158942",
   "metadata": {},
   "outputs": [
    {
     "data": {
      "text/plain": [
       "-2"
      ]
     },
     "execution_count": 31,
     "metadata": {},
     "output_type": "execute_result"
    }
   ],
   "source": [
    "round(-2.2)"
   ]
  },
  {
   "cell_type": "code",
   "execution_count": 32,
   "id": "643b1b3b",
   "metadata": {},
   "outputs": [
    {
     "data": {
      "text/plain": [
       "2"
      ]
     },
     "execution_count": 32,
     "metadata": {},
     "output_type": "execute_result"
    }
   ],
   "source": [
    "round(2.5)"
   ]
  },
  {
   "cell_type": "markdown",
   "id": "832448b0",
   "metadata": {},
   "source": [
    "The round() function also accepts an optional second argument specifying how many decimal places it should round."
   ]
  },
  {
   "cell_type": "code",
   "execution_count": 33,
   "id": "13d5381d",
   "metadata": {},
   "outputs": [
    {
     "data": {
      "text/plain": [
       "3.1"
      ]
     },
     "execution_count": 33,
     "metadata": {},
     "output_type": "execute_result"
    }
   ],
   "source": [
    "round(3.14,1)"
   ]
  },
  {
   "cell_type": "code",
   "execution_count": 35,
   "id": "db2702b5",
   "metadata": {},
   "outputs": [
    {
     "data": {
      "text/plain": [
       "7.778"
      ]
     },
     "execution_count": 35,
     "metadata": {},
     "output_type": "execute_result"
    }
   ],
   "source": [
    "round(7.7777,3)"
   ]
  },
  {
   "cell_type": "markdown",
   "id": "5f971bf7",
   "metadata": {},
   "source": [
    " The behavior for rounding half numbers is a bit odd. The function call \n",
    "round(3.5) rounds up to 4, while round(2.5) rounds down to 2. This quirk is \n",
    "caused by how computers handle floating-point numbers, you should keep this behavior in mind."
   ]
  },
  {
   "cell_type": "markdown",
   "id": "cabae7e9",
   "metadata": {},
   "source": [
    "The abs() function returns the absolute value of the number argument. \n",
    "In mathematics, this is defined as the distance from 0, but I find it easier to  think of it as the positive form of the number."
   ]
  },
  {
   "cell_type": "code",
   "execution_count": 36,
   "id": "503a6e25",
   "metadata": {},
   "outputs": [
    {
     "data": {
      "text/plain": [
       "25"
      ]
     },
     "execution_count": 36,
     "metadata": {},
     "output_type": "execute_result"
    }
   ],
   "source": [
    "abs(25)"
   ]
  },
  {
   "cell_type": "code",
   "execution_count": 37,
   "id": "aa8ec3a2",
   "metadata": {},
   "outputs": [
    {
     "data": {
      "text/plain": [
       "25"
      ]
     },
     "execution_count": 37,
     "metadata": {},
     "output_type": "execute_result"
    }
   ],
   "source": [
    "abs(-25)"
   ]
  },
  {
   "cell_type": "code",
   "execution_count": 38,
   "id": "9b187450",
   "metadata": {},
   "outputs": [
    {
     "data": {
      "text/plain": [
       "3.14"
      ]
     },
     "execution_count": 38,
     "metadata": {},
     "output_type": "execute_result"
    }
   ],
   "source": [
    "abs(-3.14)"
   ]
  },
  {
   "cell_type": "code",
   "execution_count": 39,
   "id": "6d09d2fd",
   "metadata": {},
   "outputs": [
    {
     "data": {
      "text/plain": [
       "0"
      ]
     },
     "execution_count": 39,
     "metadata": {},
     "output_type": "execute_result"
    }
   ],
   "source": [
    "abs(0)"
   ]
  }
 ],
 "metadata": {
  "kernelspec": {
   "display_name": "Python 3",
   "language": "python",
   "name": "python3"
  },
  "language_info": {
   "codemirror_mode": {
    "name": "ipython",
    "version": 3
   },
   "file_extension": ".py",
   "mimetype": "text/x-python",
   "name": "python",
   "nbconvert_exporter": "python",
   "pygments_lexer": "ipython3",
   "version": "3.10.3"
  }
 },
 "nbformat": 4,
 "nbformat_minor": 5
}
