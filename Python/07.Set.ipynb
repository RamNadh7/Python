{
 "cells": [
  {
   "cell_type": "markdown",
   "id": "089656a3",
   "metadata": {},
   "source": [
    "### Python Set\n",
    "A Python set is an unordered list of immutable elements. It means:\n",
    "\n",
    "- Elements in a set are unordered.\n",
    "- Elements in a set are unique. A set doesn’t allow duplicate elements.\n",
    "- Elements in a set cannot be changed. For example, they can be numbers, strings, and tuples, but cannot be lists or dictionaries.\n",
    "\n",
    "To define a set in Python, you use the curly brace {}. For example:"
   ]
  },
  {
   "cell_type": "code",
   "execution_count": 4,
   "id": "37d223d4",
   "metadata": {},
   "outputs": [],
   "source": [
    "skills = {'Python programming', 'Databases', 'Software design'}"
   ]
  },
  {
   "cell_type": "markdown",
   "id": "8be9f094",
   "metadata": {},
   "source": [
    "Note a dictionary also uses curly braces, but its elements are key-value pairs.\n",
    "\n",
    "To define an empty set, you cannot use the curly braces like this:"
   ]
  },
  {
   "cell_type": "code",
   "execution_count": 5,
   "id": "7d3d575e",
   "metadata": {},
   "outputs": [
    {
     "name": "stdout",
     "output_type": "stream",
     "text": [
      "Empty sets are falsy\n"
     ]
    }
   ],
   "source": [
    "empty_set = {}   # it defines the empty dictionary\n",
    "\n",
    "#Follow below\n",
    "skills = set()\n",
    "\n",
    "if not skills:\n",
    "    print('Empty sets are falsy')"
   ]
  },
  {
   "cell_type": "markdown",
   "id": "202f57b1",
   "metadata": {},
   "source": [
    "In fact, you can pass an iterable to the set() function to create a set. For example, you can pass a list, which is an iterable, to the set() function like this:"
   ]
  },
  {
   "cell_type": "code",
   "execution_count": 6,
   "id": "82313d3a",
   "metadata": {},
   "outputs": [
    {
     "name": "stdout",
     "output_type": "stream",
     "text": [
      "{'Critical Thinking', 'Problem solving'}\n"
     ]
    }
   ],
   "source": [
    "skills = set(['Problem solving','Critical Thinking'])\n",
    "print(skills)"
   ]
  },
  {
   "cell_type": "markdown",
   "id": "c26081f8",
   "metadata": {},
   "source": [
    "Note that the original order of elements may not be preserved.\n",
    "\n",
    "If an iterable has duplicate elements, the set() function will remove them. For example:"
   ]
  },
  {
   "cell_type": "code",
   "execution_count": 7,
   "id": "fecafd48",
   "metadata": {},
   "outputs": [
    {
     "name": "stdout",
     "output_type": "stream",
     "text": [
      "{'t', 'e', 'l', 'r'}\n"
     ]
    }
   ],
   "source": [
    "characters = set('letter')\n",
    "print(characters)"
   ]
  },
  {
   "cell_type": "code",
   "execution_count": null,
   "id": "447b7cea",
   "metadata": {},
   "outputs": [
    {
     "name": "stdout",
     "output_type": "stream",
     "text": [
      "['*****', '*   *   *   *', '*****']\n"
     ]
    }
   ],
   "source": []
  }
 ],
 "metadata": {
  "kernelspec": {
   "display_name": "Python 3",
   "language": "python",
   "name": "python3"
  },
  "language_info": {
   "codemirror_mode": {
    "name": "ipython",
    "version": 3
   },
   "file_extension": ".py",
   "mimetype": "text/x-python",
   "name": "python",
   "nbconvert_exporter": "python",
   "pygments_lexer": "ipython3",
   "version": "3.10.3"
  }
 },
 "nbformat": 4,
 "nbformat_minor": 5
}
