{
 "cells": [
  {
   "cell_type": "markdown",
   "id": "a4dc8d0d",
   "metadata": {},
   "source": [
    "### Functions"
   ]
  },
  {
   "cell_type": "markdown",
   "id": "fcfd2991",
   "metadata": {},
   "source": [
    "A function is like a mini program within a program. Python provides several built-in functions, such as the print(), input(), and len() "
   ]
  },
  {
   "cell_type": "markdown",
   "id": "be4740a4",
   "metadata": {},
   "source": [
    "### Creating Functions"
   ]
  },
  {
   "cell_type": "code",
   "execution_count": 1,
   "id": "792c8007",
   "metadata": {},
   "outputs": [],
   "source": [
    "def hello():\n",
    "    print(\"Hello\")\n",
    "    print(\"Good Morning\")\n",
    "    print(\"Good Afternoon\")"
   ]
  },
  {
   "cell_type": "code",
   "execution_count": 3,
   "id": "41ae7d4c",
   "metadata": {},
   "outputs": [
    {
     "name": "stdout",
     "output_type": "stream",
     "text": [
      "Hello\n",
      "Good Morning\n",
      "Good Afternoon\n",
      "Hello\n",
      "Good Morning\n",
      "Good Afternoon\n",
      "One more time\n",
      "Hello\n",
      "Good Morning\n",
      "Good Afternoon\n"
     ]
    }
   ],
   "source": [
    "hello()\n",
    "hello()\n",
    "print(\"One more time\")\n",
    "hello()"
   ]
  },
  {
   "cell_type": "markdown",
   "id": "051df170",
   "metadata": {},
   "source": [
    "The first line is a def statement, which defines a function named hello(). The code in the block that follows the def statement is the body of the function. This code executes when the function is called, not when the function is first defined. The hello() lines after the function are function calls. In code, a function call is just the function’s name followed by parentheses, possibly with \n",
    "some number of arguments in between the parentheses. When the program execution reaches these calls, it will jump to the first line in the function and begin executing the code there. When it reaches the end of the function, the execution returns to the line that called the function and continues moving through the code as before."
   ]
  },
  {
   "cell_type": "markdown",
   "id": "0ebf3de2",
   "metadata": {},
   "source": [
    "### Arguements and Parameters"
   ]
  },
  {
   "cell_type": "markdown",
   "id": "429de566",
   "metadata": {},
   "source": [
    "When you call the print() or len() function, you pass it values, called arguments, by entering them between the parentheses. You can also define your own functions that accept arguments."
   ]
  },
  {
   "cell_type": "code",
   "execution_count": 4,
   "id": "790b8ec4",
   "metadata": {},
   "outputs": [],
   "source": [
    "def say_hello(name):\n",
    "    print(f'Good morning, {name}')\n",
    "    print(f'Good Afternoon, {name}')"
   ]
  },
  {
   "cell_type": "code",
   "execution_count": 5,
   "id": "e9e1b41c",
   "metadata": {},
   "outputs": [
    {
     "name": "stdout",
     "output_type": "stream",
     "text": [
      "Good morning, Ram\n",
      "Good Afternoon, Ram\n",
      "Good morning, Nadh\n",
      "Good Afternoon, Nadh\n"
     ]
    }
   ],
   "source": [
    "say_hello('Ram')\n",
    "say_hello('Nadh')"
   ]
  },
  {
   "cell_type": "markdown",
   "id": "7d6ddadc",
   "metadata": {},
   "source": [
    "-  The definition of the say_hello_to() function has a parameter called name\n",
    "- Parameters are variables that contain arguments. When a function is called with arguments, the arguments are stored in the parameters. The first time the say_hello_to() function is called, it’s passed the argument 'Ram'\n",
    "- The program execution enters the function, and the parameter name is automatically set to 'Ram', which gets printed by the print() statement"
   ]
  },
  {
   "cell_type": "markdown",
   "id": "9c948811",
   "metadata": {},
   "source": [
    "### Return Values and return Statements"
   ]
  },
  {
   "cell_type": "markdown",
   "id": "41e6ffea",
   "metadata": {},
   "source": [
    "When you call the len() function and pass it an argument such as 'Hello', the function call evaluates to the integer value 5, which is the length of the string you passed it. In general, the value to which a function call evaluates is called the return value of the function.<br>\n",
    "When creating a function using the def statement, you can specify the return value with a return statement, which consists of the following:\n",
    "- The return keyword\n",
    "- The value or expression that the function should return"
   ]
  },
  {
   "cell_type": "code",
   "execution_count": 1,
   "id": "ae972a9b",
   "metadata": {},
   "outputs": [
    {
     "name": "stdout",
     "output_type": "stream",
     "text": [
      "Ask a yes or no question:\n",
      "It is decidedly so\n"
     ]
    }
   ],
   "source": [
    "import random\n",
    "\n",
    "def get_answer(answer_number):\n",
    "    if answer_number == 1:\n",
    "        return 'It is certain'\n",
    "    elif answer_number == 2:\n",
    "        return 'It is decidedly so'\n",
    "    elif answer_number == 3:\n",
    "        return 'Yes'\n",
    "    elif answer_number == 4:\n",
    "        return 'Reply hazy try again'\n",
    "    elif answer_number == 5:\n",
    "        return 'Ask again later'\n",
    "    elif answer_number == 6:\n",
    "        return 'Concentrate and ask again'\n",
    "    elif answer_number == 7:\n",
    "        return 'My reply is no'\n",
    "    elif answer_number == 8:\n",
    "        return 'Outlook not so good'\n",
    "    elif answer_number == 9:\n",
    "        return 'Very doubtful'\n",
    "    \n",
    "\n",
    "print('Ask a yes or no question:')\n",
    "input('>')\n",
    "r=random.randint(1,9)   #including 1 and 9\n",
    "fortune=get_answer(r)\n",
    "print(fortune)    "
   ]
  },
  {
   "cell_type": "code",
   "execution_count": 4,
   "id": "d1513297",
   "metadata": {},
   "outputs": [
    {
     "name": "stdout",
     "output_type": "stream",
     "text": [
      "My reply is no\n"
     ]
    }
   ],
   "source": [
    "#you can shorten the above code\n",
    "print(get_answer(random.randint(1,9)))"
   ]
  },
  {
   "cell_type": "markdown",
   "id": "be5659e9",
   "metadata": {},
   "source": [
    "### The None Value\n",
    "In Python, a value called None represents the absence of a value. The None value is the only value of the NoneType data type. \n",
    "-  Just like the Boolean True and False values, you must always write None with a capital N.\n",
    "\n",
    "This value-without-a-value can be helpful when you need to store something that shouldn’t be confused for a real value in a variable. One place where None is used is as the  return value of print(). The print() function displays text on the screen, and doesn’t need to return anything in the same way len() or input() does. But since all function calls need to evaluate to a return value, print() returns None. "
   ]
  },
  {
   "cell_type": "code",
   "execution_count": 6,
   "id": "e3ec4b07",
   "metadata": {},
   "outputs": [
    {
     "name": "stdout",
     "output_type": "stream",
     "text": [
      "hello\n"
     ]
    },
    {
     "data": {
      "text/plain": [
       "True"
      ]
     },
     "execution_count": 6,
     "metadata": {},
     "output_type": "execute_result"
    }
   ],
   "source": [
    "spam=print('hello')\n",
    "None==spam"
   ]
  },
  {
   "cell_type": "markdown",
   "id": "2d656858",
   "metadata": {},
   "source": [
    "### Named Parameters\n",
    "\n",
    "Python identifies most arguments by their position in the function call. For example, random.randint(1, 10) is different from random.randint(10, 1). The first call returns a random integer between 1 and 10 because the first argument determines the low end of the range and the next argument determines its high end, while the second function call causes an error.\n",
    "\n",
    "Python identifies named parameters by the name placed before them in the function call. You’ll also hear named parameters called keyword parameters or keyword arguments, though they have nothing to do with Python keywords. Programmers often use named parameters to provide optional arguments. For example, the print() function uses the optional parameters end and sep to specify separator characters to print at the end of its arguments and between its arguments,"
   ]
  },
  {
   "cell_type": "code",
   "execution_count": 2,
   "id": "974d0ac9",
   "metadata": {},
   "outputs": [
    {
     "ename": "ValueError",
     "evalue": "empty range for randrange() (10, 2, -8)",
     "output_type": "error",
     "traceback": [
      "\u001b[1;31m---------------------------------------------------------------------------\u001b[0m",
      "\u001b[1;31mValueError\u001b[0m                                Traceback (most recent call last)",
      "Cell \u001b[1;32mIn[2], line 1\u001b[0m\n\u001b[1;32m----> 1\u001b[0m \u001b[43mrandom\u001b[49m\u001b[38;5;241;43m.\u001b[39;49m\u001b[43mrandint\u001b[49m\u001b[43m(\u001b[49m\u001b[38;5;241;43m10\u001b[39;49m\u001b[43m,\u001b[49m\u001b[38;5;241;43m1\u001b[39;49m\u001b[43m)\u001b[49m\n",
      "File \u001b[1;32mc:\\Users\\raman\\AppData\\Local\\Programs\\Python\\Python310\\lib\\random.py:370\u001b[0m, in \u001b[0;36mRandom.randint\u001b[1;34m(self, a, b)\u001b[0m\n\u001b[0;32m    366\u001b[0m \u001b[38;5;28;01mdef\u001b[39;00m \u001b[38;5;21mrandint\u001b[39m(\u001b[38;5;28mself\u001b[39m, a, b):\n\u001b[0;32m    367\u001b[0m \u001b[38;5;250m    \u001b[39m\u001b[38;5;124;03m\"\"\"Return random integer in range [a, b], including both end points.\u001b[39;00m\n\u001b[0;32m    368\u001b[0m \u001b[38;5;124;03m    \"\"\"\u001b[39;00m\n\u001b[1;32m--> 370\u001b[0m     \u001b[38;5;28;01mreturn\u001b[39;00m \u001b[38;5;28;43mself\u001b[39;49m\u001b[38;5;241;43m.\u001b[39;49m\u001b[43mrandrange\u001b[49m\u001b[43m(\u001b[49m\u001b[43ma\u001b[49m\u001b[43m,\u001b[49m\u001b[43m \u001b[49m\u001b[43mb\u001b[49m\u001b[38;5;241;43m+\u001b[39;49m\u001b[38;5;241;43m1\u001b[39;49m\u001b[43m)\u001b[49m\n",
      "File \u001b[1;32mc:\\Users\\raman\\AppData\\Local\\Programs\\Python\\Python310\\lib\\random.py:353\u001b[0m, in \u001b[0;36mRandom.randrange\u001b[1;34m(self, start, stop, step)\u001b[0m\n\u001b[0;32m    351\u001b[0m     \u001b[38;5;28;01mif\u001b[39;00m width \u001b[38;5;241m>\u001b[39m \u001b[38;5;241m0\u001b[39m:\n\u001b[0;32m    352\u001b[0m         \u001b[38;5;28;01mreturn\u001b[39;00m istart \u001b[38;5;241m+\u001b[39m \u001b[38;5;28mself\u001b[39m\u001b[38;5;241m.\u001b[39m_randbelow(width)\n\u001b[1;32m--> 353\u001b[0m     \u001b[38;5;28;01mraise\u001b[39;00m \u001b[38;5;167;01mValueError\u001b[39;00m(\u001b[38;5;124m\"\u001b[39m\u001b[38;5;124mempty range for randrange() (\u001b[39m\u001b[38;5;132;01m%d\u001b[39;00m\u001b[38;5;124m, \u001b[39m\u001b[38;5;132;01m%d\u001b[39;00m\u001b[38;5;124m, \u001b[39m\u001b[38;5;132;01m%d\u001b[39;00m\u001b[38;5;124m)\u001b[39m\u001b[38;5;124m\"\u001b[39m \u001b[38;5;241m%\u001b[39m (istart, istop, width))\n\u001b[0;32m    355\u001b[0m \u001b[38;5;66;03m# Non-unit step argument supplied.\u001b[39;00m\n\u001b[0;32m    356\u001b[0m \u001b[38;5;28;01mif\u001b[39;00m istep \u001b[38;5;241m>\u001b[39m \u001b[38;5;241m0\u001b[39m:\n",
      "\u001b[1;31mValueError\u001b[0m: empty range for randrange() (10, 2, -8)"
     ]
    }
   ],
   "source": [
    "random.randint(10,1)"
   ]
  },
  {
   "cell_type": "code",
   "execution_count": 8,
   "id": "11e1e711",
   "metadata": {},
   "outputs": [
    {
     "name": "stdout",
     "output_type": "stream",
     "text": [
      "Hello\n",
      "World\n"
     ]
    }
   ],
   "source": [
    "print('Hello')\n",
    "print('World')"
   ]
  },
  {
   "cell_type": "code",
   "execution_count": 9,
   "id": "a6551afc",
   "metadata": {},
   "outputs": [
    {
     "name": "stdout",
     "output_type": "stream",
     "text": [
      "hello World\n"
     ]
    }
   ],
   "source": [
    "print(\"hello\",end=' ')\n",
    "print('World')"
   ]
  },
  {
   "cell_type": "code",
   "execution_count": 10,
   "id": "ea812ce3",
   "metadata": {},
   "outputs": [
    {
     "name": "stdout",
     "output_type": "stream",
     "text": [
      "T H T H H H H T T T H H H H H H T T H T H T H H T H H H T H T H T H T T T H T H T T T T T H H H T H T H T T T T H T T T H H T H T H H T H H T H H H H T T T H T H T H T T T H H T H H T H T T H H H H T \n"
     ]
    }
   ],
   "source": [
    "import random\n",
    "for i in range(100):  # Perform 100 coin flips.\n",
    "   if random.randint(0, 1) == 0:\n",
    "       print('H', end=' ')\n",
    "   else:\n",
    "       print('T', end=' ')\n",
    "print()  # Print one newline at the end."
   ]
  },
  {
   "cell_type": "markdown",
   "id": "69dfd766",
   "metadata": {},
   "source": [
    "when you pass multiple string values to print(), the function automatically separates them with a single space."
   ]
  },
  {
   "cell_type": "code",
   "execution_count": 11,
   "id": "0d1b409d",
   "metadata": {},
   "outputs": [
    {
     "name": "stdout",
     "output_type": "stream",
     "text": [
      "cats dogs mice\n"
     ]
    }
   ],
   "source": [
    "print('cats', 'dogs', 'mice')"
   ]
  },
  {
   "cell_type": "code",
   "execution_count": 12,
   "id": "285cc050",
   "metadata": {},
   "outputs": [
    {
     "name": "stdout",
     "output_type": "stream",
     "text": [
      "cats,dogs,mice\n"
     ]
    }
   ],
   "source": [
    "#You could replace the default separating string by passing the sep named parameter a different string.\n",
    "print('cats', 'dogs', 'mice',sep=',')"
   ]
  },
  {
   "cell_type": "markdown",
   "id": "4774a9e7",
   "metadata": {},
   "source": [
    "### The call stack"
   ]
  },
  {
   "cell_type": "code",
   "execution_count": 13,
   "id": "fef1494e",
   "metadata": {},
   "outputs": [
    {
     "name": "stdout",
     "output_type": "stream",
     "text": [
      "a() starts\n",
      "b() starts\n",
      "c() starts\n",
      "c() returns\n",
      "b() returns\n",
      "d() starts\n",
      "d() returns\n",
      "a() returns\n"
     ]
    }
   ],
   "source": [
    "def a():\n",
    "    print('a() starts')\n",
    "    b()\n",
    "    d()\n",
    "    print('a() returns')\n",
    "    \n",
    "def b():\n",
    "    print('b() starts')\n",
    "    c()\n",
    "    print('b() returns')\n",
    "def c():\n",
    "    print('c() starts')\n",
    "    print('c() returns')\n",
    "def d():\n",
    "    print('d() starts')\n",
    "    print('d() returns')\n",
    "    \n",
    "    \n",
    "a()"
   ]
  },
  {
   "attachments": {
    "image.png": {
     "image/png": "[encoded data removed]"
    }
   },
   "cell_type": "markdown",
   "id": "334baeb4",
   "metadata": {},
   "source": [
    "![image.png](attachment:image.png)"
   ]
  },
  {
   "cell_type": "markdown",
   "id": "7c4d3dcf",
   "metadata": {},
   "source": [
    "### Local and Global Scopes"
   ]
  },
  {
   "cell_type": "markdown",
   "id": "2ac714ea",
   "metadata": {},
   "source": [
    "Only code within a called function can access the parameters and variables assigned in that function. These variables are said to exist in that function’s local scope. By contrast, code anywhere in a program can access variables that are assigned outside all functions. These variables are said to exist in the global scope.\n",
    "-  A variable that exists in a local scope is called a  local variable, while a variable that exists in a global scope is called a global variable.\n"
   ]
  },
  {
   "cell_type": "markdown",
   "id": "ce568605",
   "metadata": {},
   "source": [
    "#### Score Rules\n",
    "\n",
    "- Code that is in the global scope, outside all functions, can’t use local variables.\n",
    "- Code that is in one function’s local scope can’t use variables in any other local scope.\n",
    "- Code in a local scope can access global variables.\n",
    "- You can use the same name for different variables if they are in different scopes. That is, there can be a local variable named spam and a global variable also named spam."
   ]
  },
  {
   "cell_type": "markdown",
   "id": "1e304e5f",
   "metadata": {},
   "source": [
    "#### Code That Is in the Global Scope Can’t Use Local Variables"
   ]
  },
  {
   "cell_type": "code",
   "execution_count": 14,
   "id": "8ca73f01",
   "metadata": {},
   "outputs": [
    {
     "ename": "NameError",
     "evalue": "name 'eggs' is not defined",
     "output_type": "error",
     "traceback": [
      "\u001b[1;31m---------------------------------------------------------------------------\u001b[0m",
      "\u001b[1;31mNameError\u001b[0m                                 Traceback (most recent call last)",
      "Cell \u001b[1;32mIn[14], line 4\u001b[0m\n\u001b[0;32m      2\u001b[0m     eggs\u001b[38;5;241m=\u001b[39m\u001b[38;5;241m55\u001b[39m\n\u001b[0;32m      3\u001b[0m func()\n\u001b[1;32m----> 4\u001b[0m \u001b[38;5;28mprint\u001b[39m(\u001b[43meggs\u001b[49m)\n",
      "\u001b[1;31mNameError\u001b[0m: name 'eggs' is not defined"
     ]
    }
   ],
   "source": [
    "def func():\n",
    "    eggs=55\n",
    "func()\n",
    "print(eggs)"
   ]
  },
  {
   "cell_type": "markdown",
   "id": "9e12a6a3",
   "metadata": {},
   "source": [
    "The error happens because the eggs variable exists only in the local scope created when spam() is called.  Once the program execution returns from spam(), that local scope gets destroyed, and there is no longer a variable named eggs. So when your program tries to run print(eggs), Python gives you an error saying that eggs is not defined."
   ]
  },
  {
   "cell_type": "markdown",
   "id": "1b526ce8",
   "metadata": {},
   "source": [
    "####  Code That Is in a Local Scope Can’t Use Variables in Other Local Scopes"
   ]
  },
  {
   "cell_type": "code",
   "execution_count": null,
   "id": "19969c41",
   "metadata": {},
   "outputs": [
    {
     "name": "stdout",
     "output_type": "stream",
     "text": [
      "SPAMSPAM\n"
     ]
    }
   ],
   "source": [
    "def spam():\n",
    "    eggs = 'SPAMSPAM'\n",
    "    bacon()\n",
    "    print(eggs)  # prints 'SPAMSPAM'\n",
    "def bacon():\n",
    "    ham = 'hamham'\n",
    "    eggs = 'BACONBACON'\n",
    "\n",
    "\n",
    "spam()"
   ]
  },
  {
   "cell_type": "markdown",
   "id": "4e9b35ea",
   "metadata": {},
   "source": [
    "####  Code That Is in a Local Scope Can Use Global Variables"
   ]
  },
  {
   "cell_type": "code",
   "execution_count": 19,
   "id": "9fd186d3",
   "metadata": {},
   "outputs": [
    {
     "name": "stdout",
     "output_type": "stream",
     "text": [
      "GLOBALGLOBAL\n",
      "GLOBALGLOBAL\n"
     ]
    }
   ],
   "source": [
    "def spam():\n",
    "    print(eggs)  # prints 'GLOBALGLOBAL'\n",
    "eggs = 'GLOBALGLOBAL'\n",
    "spam()\n",
    "print(eggs)"
   ]
  },
  {
   "cell_type": "markdown",
   "id": "b3373c57",
   "metadata": {},
   "source": [
    "Because the spam() function has no parameter named eggs, nor any code that assigns eggs a value, Python considers the function’s use of eggs a reference to the global variable eggs. This is why the program prints 'GLOBALGLOBAL' when it’s run."
   ]
  },
  {
   "cell_type": "markdown",
   "id": "ccbfe051",
   "metadata": {},
   "source": [
    "#### Local and Global Variables Can Have the Same Name"
   ]
  },
  {
   "cell_type": "markdown",
   "id": "5014cc99",
   "metadata": {},
   "source": [
    "Technically, it’s perfectly acceptable to use the same variable name for a global variable and local variables in different scopes. But, to simplify your life, avoid doing this."
   ]
  },
  {
   "cell_type": "code",
   "execution_count": 20,
   "id": "c36f2e7f",
   "metadata": {},
   "outputs": [
    {
     "name": "stdout",
     "output_type": "stream",
     "text": [
      "bacon local\n",
      "spam local\n",
      "bacon local\n",
      "global\n"
     ]
    }
   ],
   "source": [
    "def spam():\n",
    "    eggs = 'spam local'\n",
    "    print(eggs)  # Prints 'spam local'\n",
    "def bacon():\n",
    "    eggs = 'bacon local'\n",
    "    print(eggs)  # Prints 'bacon local'\n",
    "    spam()\n",
    "    print(eggs)  # Prints 'bacon local'\n",
    "    \n",
    "eggs = 'global'\n",
    "bacon()\n",
    "print(eggs)  # Prints 'global'"
   ]
  },
  {
   "cell_type": "markdown",
   "id": "33ef421b",
   "metadata": {},
   "source": [
    "This program actually contains three different variables, but confusingly, they’re all named eggs. The variables are as follows:\n",
    "- A variable named eggs that exists in a local scope when spam() is called 1\n",
    "- A variable named eggs that exists in a local scope when bacon() is called 2\n",
    "- A variable named eggs that exists in the global scope 3\n",
    "Because these three separate variables all have the same name, it can be hard to keep track of the one in use at any given time. Instead, give all variables unique names, even when they appear in different scopes."
   ]
  },
  {
   "cell_type": "markdown",
   "id": "3ba6d4df",
   "metadata": {},
   "source": [
    "### The global statement"
   ]
  },
  {
   "cell_type": "markdown",
   "id": "4b7b2ee4",
   "metadata": {},
   "source": [
    "If you need to modify a global variable from within a function, use the global statement. Including a line such as global eggs at the top of a function tells Python, “In this function, eggs refers to the global variable, so don’t create a local variable with this name."
   ]
  },
  {
   "cell_type": "code",
   "execution_count": 21,
   "id": "594545e6",
   "metadata": {},
   "outputs": [
    {
     "name": "stdout",
     "output_type": "stream",
     "text": [
      "spam\n"
     ]
    }
   ],
   "source": [
    "def spam():\n",
    "    global eggs\n",
    "    eggs='spam'\n",
    "\n",
    "eggs='global'\n",
    "spam()\n",
    "print(eggs)"
   ]
  },
  {
   "cell_type": "markdown",
   "metadata": {},
   "source": [
    "#### Scope identification"
   ]
  },
  {
   "cell_type": "markdown",
   "id": "322bb2d2",
   "metadata": {},
   "source": [
    " Use these four rules to tell whether a variable belongs to a local scope or the global scope:\n",
    " 1. A variable in the global scope (that is, outside all functions) is always a global variable.\n",
    " 2. A variable in a function with a global statement is always a global variable in that function.\n",
    " 3. Otherwise, if a function uses a variable in an assignment statement, it is a local variable.\n",
    " 4. However, if the function uses a variable but never in an assignment statement, it is a global variable."
   ]
  },
  {
   "cell_type": "code",
   "execution_count": 24,
   "id": "8dea8a53",
   "metadata": {},
   "outputs": [
    {
     "name": "stdout",
     "output_type": "stream",
     "text": [
      "spam\n"
     ]
    }
   ],
   "source": [
    "def spam():\n",
    "    global eggs\n",
    "    eggs = 'spam'  # This is the global variable.\n",
    "def bacon():\n",
    "    eggs = 'bacon'  # This is a local variable.\n",
    "def ham():\n",
    "    print(eggs)  # This is the global variable.\n",
    " \n",
    "eggs = 'global'  # This is the global variable.\n",
    "spam()\n",
    "print(eggs)"
   ]
  },
  {
   "cell_type": "markdown",
   "id": "bc55a44e",
   "metadata": {},
   "source": [
    "#### Exception Handling\n",
    "Right now, getting an error, or  exception, in your Python program means the entire program will crash. You don’t want this to happen in real-world programs. Instead, you want the program to detect errors, handle them, and then continue to run.\n"
   ]
  },
  {
   "cell_type": "code",
   "execution_count": 25,
   "id": "d40b0515",
   "metadata": {},
   "outputs": [
    {
     "name": "stdout",
     "output_type": "stream",
     "text": [
      "21.0\n",
      "3.5\n"
     ]
    },
    {
     "ename": "ZeroDivisionError",
     "evalue": "division by zero",
     "output_type": "error",
     "traceback": [
      "\u001b[1;31m---------------------------------------------------------------------------\u001b[0m",
      "\u001b[1;31mZeroDivisionError\u001b[0m                         Traceback (most recent call last)",
      "Cell \u001b[1;32mIn[25], line 5\u001b[0m\n\u001b[0;32m      3\u001b[0m \u001b[38;5;28mprint\u001b[39m(spam(\u001b[38;5;241m2\u001b[39m))\n\u001b[0;32m      4\u001b[0m \u001b[38;5;28mprint\u001b[39m(spam(\u001b[38;5;241m12\u001b[39m))\n\u001b[1;32m----> 5\u001b[0m \u001b[38;5;28mprint\u001b[39m(\u001b[43mspam\u001b[49m\u001b[43m(\u001b[49m\u001b[38;5;241;43m0\u001b[39;49m\u001b[43m)\u001b[49m)\n\u001b[0;32m      6\u001b[0m \u001b[38;5;28mprint\u001b[39m(spam(\u001b[38;5;241m1\u001b[39m))\n",
      "Cell \u001b[1;32mIn[25], line 2\u001b[0m, in \u001b[0;36mspam\u001b[1;34m(divide_by)\u001b[0m\n\u001b[0;32m      1\u001b[0m \u001b[38;5;28;01mdef\u001b[39;00m \u001b[38;5;21mspam\u001b[39m(divide_by):\n\u001b[1;32m----> 2\u001b[0m     \u001b[38;5;28;01mreturn\u001b[39;00m \u001b[38;5;241;43m42\u001b[39;49m\u001b[43m \u001b[49m\u001b[38;5;241;43m/\u001b[39;49m\u001b[43m \u001b[49m\u001b[43mdivide_by\u001b[49m\n",
      "\u001b[1;31mZeroDivisionError\u001b[0m: division by zero"
     ]
    }
   ],
   "source": [
    "def spam(divide_by):\n",
    "    return 42 / divide_by\n",
    "print(spam(2))\n",
    "print(spam(12))\n",
    "print(spam(0))\n",
    "print(spam(1))"
   ]
  },
  {
   "cell_type": "code",
   "execution_count": 27,
   "id": "34be5902",
   "metadata": {},
   "outputs": [
    {
     "name": "stdout",
     "output_type": "stream",
     "text": [
      "21.0\n",
      "3.5\n",
      "Error: Invalid argument.\n",
      "None\n",
      "42.0\n"
     ]
    }
   ],
   "source": [
    "def spam(divide_by):\n",
    "    try:\n",
    "        # Any code in this block that causes ZeroDivisionError won't crash the program:\n",
    "        return 42 / divide_by\n",
    "    except ZeroDivisionError:\n",
    "        # If ZeroDivisionError happened, the code in this block runs:\n",
    "        print('Error: Invalid argument.')\n",
    "\n",
    "print(spam(2))\n",
    "print(spam(12))\n",
    "print(spam(0))\n",
    "print(spam(1))"
   ]
  },
  {
   "cell_type": "code",
   "execution_count": 30,
   "id": "1a102d4b",
   "metadata": {},
   "outputs": [
    {
     "name": "stdout",
     "output_type": "stream",
     "text": [
      "21.0\n",
      "3.5\n",
      "Error: Invalid argument.\n"
     ]
    }
   ],
   "source": [
    "def spam(divideBy):\n",
    "    return 42 / divideBy\n",
    "\n",
    "try:\n",
    "    print(spam(2))\n",
    "    print(spam(12))\n",
    "    print(spam(0))\n",
    "    print(spam(1))\n",
    "except ZeroDivisionError:\n",
    "    print('Error: Invalid argument.')"
   ]
  },
  {
   "cell_type": "code",
   "execution_count": 31,
   "id": "78387f23",
   "metadata": {},
   "outputs": [
    {
     "name": "stdout",
     "output_type": "stream",
     "text": [
      "********\n",
      " ********\n",
      "  ********\n",
      "   ********\n",
      "    ********\n",
      "     ********\n",
      "      ********\n",
      "       ********\n",
      "        ********\n",
      "         ********\n",
      "          ********\n",
      "           ********\n",
      "            ********\n",
      "             ********\n",
      "              ********\n",
      "               ********\n",
      "                ********\n",
      "                 ********\n",
      "                  ********\n",
      "                   ********\n",
      "                    ********\n",
      "                   ********\n",
      "                  ********\n",
      "                 ********\n",
      "                ********\n",
      "               ********\n",
      "              ********\n",
      "             ********\n",
      "            ********\n",
      "           ********\n",
      "          ********\n",
      "         ********\n",
      "        ********\n",
      "       ********\n",
      "      ********\n",
      "     ********\n",
      "    ********\n",
      "   ********\n",
      "  ********\n",
      " ********\n",
      "********\n",
      " ********\n",
      "  ********\n",
      "   ********\n",
      "    ********\n",
      "     ********\n",
      "      ********\n",
      "       ********\n",
      "        ********\n",
      "         ********\n",
      "          ********\n",
      "           ********\n",
      "            ********\n",
      "             ********\n",
      "              ********\n",
      "               ********\n",
      "                ********\n",
      "                 ********\n",
      "                  ********\n",
      "                   ********\n",
      "                    ********\n",
      "                   ********\n",
      "                  ********\n",
      "                 ********\n",
      "                ********\n",
      "               ********\n",
      "              ********\n",
      "             ********\n",
      "            ********\n",
      "           ********\n",
      "          ********\n",
      "         ********\n",
      "        ********\n",
      "       ********\n",
      "      ********\n",
      "     ********\n",
      "    ********\n",
      "   ********\n",
      "  ********\n",
      " ********\n",
      "********\n",
      " ********\n",
      "  ********\n",
      "   ********\n",
      "    ********\n",
      "     ********\n",
      "      ********\n",
      "       ********\n",
      "        ********\n",
      "         ********\n",
      "          ********\n",
      "           ********\n",
      "            ********\n",
      "             ********\n",
      "              ********\n",
      "               ********\n",
      "                ********\n",
      "                 ********\n",
      "                  ********\n",
      "                   ********\n",
      "                    ********\n",
      "                   ********\n",
      "                  ********\n",
      "                 ********\n",
      "                ********\n",
      "               ********\n",
      "              ********\n",
      "             ********\n",
      "            ********\n",
      "           ********\n",
      "          ********\n",
      "         ********\n",
      "        ********\n",
      "       ********\n",
      "      ********\n",
      "     ********\n",
      "    ********\n",
      "   ********\n",
      "  ********\n",
      " ********\n",
      "********\n",
      " ********\n"
     ]
    },
    {
     "ename": "SystemExit",
     "evalue": "",
     "output_type": "error",
     "traceback": [
      "An exception has occurred, use %tb to see the full traceback.\n",
      "\u001b[1;31mSystemExit\u001b[0m\n"
     ]
    },
    {
     "name": "stderr",
     "output_type": "stream",
     "text": [
      "C:\\Users\\raman\\AppData\\Roaming\\Python\\Python310\\site-packages\\IPython\\core\\interactiveshell.py:3585: UserWarning: To exit: use 'exit', 'quit', or Ctrl-D.\n",
      "  warn(\"To exit: use 'exit', 'quit', or Ctrl-D.\", stacklevel=1)\n"
     ]
    }
   ],
   "source": [
    "import time, sys\n",
    "indent = 0 # How many spaces to indent.\n",
    "indentIncreasing = True # Whether the indentation is increasing or not.\n",
    "\n",
    "try:\n",
    "    while True: # The main program loop.\n",
    "        print(' ' * indent, end='')\n",
    "        print('********')\n",
    "        time.sleep(0.1) # Pause for 1/10 of a second.\n",
    "\n",
    "        if indentIncreasing:\n",
    "            # Increase the number of spaces:\n",
    "            indent = indent + 1\n",
    "            if indent == 20:\n",
    "                # Change direction:\n",
    "                indentIncreasing = False\n",
    "\n",
    "        else:\n",
    "            # Decrease the number of spaces:\n",
    "            indent = indent - 1\n",
    "            if indent == 0:\n",
    "                # Change direction:\n",
    "                indentIncreasing = True\n",
    "except KeyboardInterrupt:\n",
    "    sys.exit()"
   ]
  },
  {
   "cell_type": "code",
   "execution_count": 33,
   "id": "6158426d",
   "metadata": {},
   "outputs": [
    {
     "name": "stdout",
     "output_type": "stream",
     "text": [
      "-\n",
      "----\n",
      "---------\n",
      "----------------\n",
      "-------------------------\n",
      "------------------------------------\n",
      "-------------------------------------------------\n",
      "----------------------------------------------------------------\n",
      "-------------------------------------------------\n",
      "------------------------------------\n",
      "-------------------------\n",
      "----------------\n",
      "---------\n",
      "----\n",
      "-\n",
      "----\n",
      "---------\n",
      "----------------\n",
      "-------------------------\n",
      "------------------------------------\n",
      "-------------------------------------------------\n",
      "----------------------------------------------------------------\n",
      "-------------------------------------------------\n",
      "------------------------------------\n",
      "-------------------------\n",
      "----------------\n",
      "---------\n",
      "----\n",
      "-\n",
      "----\n",
      "---------\n",
      "----------------\n",
      "-------------------------\n",
      "------------------------------------\n",
      "-------------------------------------------------\n",
      "----------------------------------------------------------------\n",
      "-------------------------------------------------\n",
      "------------------------------------\n",
      "-------------------------\n",
      "----------------\n",
      "---------\n",
      "----\n",
      "-\n",
      "----\n",
      "---------\n",
      "----------------\n",
      "-------------------------\n",
      "------------------------------------\n",
      "-------------------------------------------------\n",
      "----------------------------------------------------------------\n",
      "-------------------------------------------------\n",
      "------------------------------------\n",
      "-------------------------\n",
      "----------------\n",
      "---------\n",
      "----\n",
      "-\n",
      "----\n",
      "---------\n",
      "----------------\n",
      "-------------------------\n",
      "------------------------------------\n",
      "-------------------------------------------------\n",
      "----------------------------------------------------------------\n",
      "-------------------------------------------------\n",
      "------------------------------------\n",
      "-------------------------\n",
      "----------------\n",
      "---------\n",
      "----\n",
      "-\n",
      "----\n"
     ]
    },
    {
     "ename": "SystemExit",
     "evalue": "",
     "output_type": "error",
     "traceback": [
      "An exception has occurred, use %tb to see the full traceback.\n",
      "\u001b[1;31mSystemExit\u001b[0m\n"
     ]
    }
   ],
   "source": [
    "import time, sys\n",
    "\n",
    "try:\n",
    "    while True:  # The main program loop\n",
    "        # Draw lines with increasing length:\n",
    "        for i in range(1, 9):\n",
    "            print('-' * (i * i))\n",
    "            time.sleep(0.1)\n",
    "        # Draw lines with decreasing length:\n",
    "        for i in range(7, 1, -1):\n",
    "            print('-' * (i * i))\n",
    "            time.sleep(0.1)\n",
    "except KeyboardInterrupt:\n",
    "    sys.exit()"
   ]
  },
  {
   "cell_type": "code",
   "execution_count": 35,
   "id": "53711db4",
   "metadata": {},
   "outputs": [
    {
     "name": "stdout",
     "output_type": "stream",
     "text": [
      "Please enter a valid integer.\n"
     ]
    }
   ],
   "source": [
    "def collatz(number):\n",
    "    if number % 2 == 0:\n",
    "        result = number // 2\n",
    "    else:\n",
    "        result = 3 * number + 1\n",
    "    print(result)\n",
    "    return result\n",
    "\n",
    "try:\n",
    "    n = int(input(\"Enter an integer: \"))\n",
    "    while n != 1:\n",
    "        n = collatz(n)\n",
    "except ValueError:\n",
    "    print(\"Please enter a valid integer.\")"
   ]
  }
 ],
 "metadata": {
  "kernelspec": {
   "display_name": "Python 3",
   "language": "python",
   "name": "python3"
  },
  "language_info": {
   "codemirror_mode": {
    "name": "ipython",
    "version": 3
   },
   "file_extension": ".py",
   "mimetype": "text/x-python",
   "name": "python",
   "nbconvert_exporter": "python",
   "pygments_lexer": "ipython3",
   "version": "3.10.3"
  }
 },
 "nbformat": 4,
 "nbformat_minor": 5
}
