{
 "cells": [
  {
   "cell_type": "markdown",
   "id": "a4dc8d0d",
   "metadata": {},
   "source": [
    "### Functions"
   ]
  },
  {
   "cell_type": "markdown",
   "id": "fcfd2991",
   "metadata": {},
   "source": [
    "A function is like a mini program within a program. Python provides several built-in functions, such as the print(), input(), and len() "
   ]
  },
  {
   "cell_type": "markdown",
   "id": "be4740a4",
   "metadata": {},
   "source": [
    "### Creating Functions"
   ]
  },
  {
   "cell_type": "code",
   "execution_count": 1,
   "id": "792c8007",
   "metadata": {},
   "outputs": [],
   "source": [
    "def hello():\n",
    "    print(\"Hello\")\n",
    "    print(\"Good Morning\")\n",
    "    print(\"Good Afternoon\")"
   ]
  },
  {
   "cell_type": "code",
   "execution_count": 3,
   "id": "41ae7d4c",
   "metadata": {},
   "outputs": [
    {
     "name": "stdout",
     "output_type": "stream",
     "text": [
      "Hello\n",
      "Good Morning\n",
      "Good Afternoon\n",
      "Hello\n",
      "Good Morning\n",
      "Good Afternoon\n",
      "One more time\n",
      "Hello\n",
      "Good Morning\n",
      "Good Afternoon\n"
     ]
    }
   ],
   "source": [
    "hello()\n",
    "hello()\n",
    "print(\"One more time\")\n",
    "hello()"
   ]
  },
  {
   "cell_type": "markdown",
   "id": "051df170",
   "metadata": {},
   "source": [
    "The first line is a def statement, which defines a function named hello(). The code in the block that follows the def statement is the body of the function. This code executes when the function is called, not when the function is first defined. The hello() lines after the function are function calls. In code, a function call is just the function’s name followed by parentheses, possibly with \n",
    "some number of arguments in between the parentheses. When the program execution reaches these calls, it will jump to the first line in the function and begin executing the code there. When it reaches the end of the function, the execution returns to the line that called the function and continues moving through the code as before."
   ]
  },
  {
   "cell_type": "markdown",
   "id": "0ebf3de2",
   "metadata": {},
   "source": [
    "### Arguements and Parameters"
   ]
  },
  {
   "cell_type": "markdown",
   "id": "429de566",
   "metadata": {},
   "source": [
    "When you call the print() or len() function, you pass it values, called arguments, by entering them between the parentheses. You can also define your own functions that accept arguments."
   ]
  },
  {
   "cell_type": "code",
   "execution_count": 4,
   "id": "790b8ec4",
   "metadata": {},
   "outputs": [],
   "source": [
    "def say_hello(name):\n",
    "    print(f'Good morning, {name}')\n",
    "    print(f'Good Afternoon, {name}')"
   ]
  },
  {
   "cell_type": "code",
   "execution_count": 5,
   "id": "e9e1b41c",
   "metadata": {},
   "outputs": [
    {
     "name": "stdout",
     "output_type": "stream",
     "text": [
      "Good morning, Ram\n",
      "Good Afternoon, Ram\n",
      "Good morning, Nadh\n",
      "Good Afternoon, Nadh\n"
     ]
    }
   ],
   "source": [
    "say_hello('Ram')\n",
    "say_hello('Nadh')"
   ]
  },
  {
   "cell_type": "markdown",
   "id": "7d6ddadc",
   "metadata": {},
   "source": [
    "-  The definition of the say_hello_to() function has a parameter called name\n",
    "- Parameters are variables that contain arguments. When a function is called with arguments, the arguments are stored in the parameters. The first time the say_hello_to() function is called, it’s passed the argument 'Ram'\n",
    "- The program execution enters the function, and the parameter name is automatically set to 'Ram', which gets printed by the print() statement"
   ]
  }
 ],
 "metadata": {
  "kernelspec": {
   "display_name": "Python 3",
   "language": "python",
   "name": "python3"
  },
  "language_info": {
   "codemirror_mode": {
    "name": "ipython",
    "version": 3
   },
   "file_extension": ".py",
   "mimetype": "text/x-python",
   "name": "python",
   "nbconvert_exporter": "python",
   "pygments_lexer": "ipython3",
   "version": "3.10.3"
  }
 },
 "nbformat": 4,
 "nbformat_minor": 5
}
