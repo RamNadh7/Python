{
 "cells": [
  {
   "cell_type": "markdown",
   "id": "c5479008",
   "metadata": {},
   "source": [
    "### Dictionary"
   ]
  },
  {
   "cell_type": "markdown",
   "id": "39ccfee5",
   "metadata": {},
   "source": [
    "A Python dictionary is a collection of key-value pairs where each key is associated with a value.\n",
    "\n",
    "A value in the key-value pair can be a number, a string, a list, a tuple, or even another dictionary. In fact, you can use a value of any valid type in Python as the value in the key-value pair.\n",
    "\n",
    "A key in the key-value pair must be immutable. In other words, the key cannot be changed, for example, a number, a string, a tuple, etc.\n",
    "\n",
    "Python uses curly braces {} to define a dictionary. Inside the curly braces, you can place zero, one, or many key-value pairs."
   ]
  },
  {
   "cell_type": "code",
   "execution_count": 1,
   "id": "279a04c1",
   "metadata": {},
   "outputs": [],
   "source": [
    "# The following example defines an empty dictionary:\n",
    "empty_dict={}"
   ]
  },
  {
   "cell_type": "markdown",
   "id": "7a39d9e4",
   "metadata": {},
   "source": [
    "Typically, you define an empty dictionary before a loop, either for loop or while loop. And inside the loop, you add key-value pairs to the dictionary."
   ]
  },
  {
   "cell_type": "code",
   "execution_count": 2,
   "id": "6139882e",
   "metadata": {},
   "outputs": [
    {
     "name": "stdout",
     "output_type": "stream",
     "text": [
      "<class 'dict'>\n"
     ]
    }
   ],
   "source": [
    "empty_dict = {}\n",
    "\n",
    "print(type(empty_dict))"
   ]
  },
  {
   "cell_type": "code",
   "execution_count": 3,
   "id": "e0fe7ebc",
   "metadata": {},
   "outputs": [],
   "source": [
    "# Example\n",
    "person = {\n",
    "    'first_name': 'John',\n",
    "    'last_name': 'Doe',\n",
    "    'age': 25,\n",
    "    'favorite_colors': ['blue', 'green'],\n",
    "    'active': True\n",
    "}"
   ]
  },
  {
   "cell_type": "markdown",
   "id": "b5563865",
   "metadata": {},
   "source": [
    "### Accessing values in a Dictionary\n",
    "To access a value associated with a key, you place the key inside square brackets:\n",
    "\n",
    "dict[key]"
   ]
  },
  {
   "cell_type": "code",
   "execution_count": 4,
   "id": "adfd8409",
   "metadata": {},
   "outputs": [
    {
     "name": "stdout",
     "output_type": "stream",
     "text": [
      "John\n",
      "Doe\n"
     ]
    }
   ],
   "source": [
    "# The following shows how to get the values associated with the key \n",
    "# first_name and last_name in the person dictionary:\n",
    "\n",
    "person = {\n",
    "    'first_name': 'John',\n",
    "    'last_name': 'Doe',\n",
    "    'age': 25,\n",
    "    'favorite_colors': ['blue', 'green'],\n",
    "    'active': True\n",
    "}\n",
    "print(person['first_name'])\n",
    "print(person['last_name'])"
   ]
  },
  {
   "cell_type": "code",
   "execution_count": null,
   "id": "d8f33cd8",
   "metadata": {},
   "outputs": [],
   "source": []
  }
 ],
 "metadata": {
  "kernelspec": {
   "display_name": "Python 3",
   "language": "python",
   "name": "python3"
  },
  "language_info": {
   "codemirror_mode": {
    "name": "ipython",
    "version": 3
   },
   "file_extension": ".py",
   "mimetype": "text/x-python",
   "name": "python",
   "nbconvert_exporter": "python",
   "pygments_lexer": "ipython3",
   "version": "3.10.3"
  }
 },
 "nbformat": 4,
 "nbformat_minor": 5
}
