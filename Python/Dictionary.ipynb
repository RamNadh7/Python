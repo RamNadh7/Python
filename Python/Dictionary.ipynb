{
 "cells": [
  {
   "cell_type": "markdown",
   "id": "c5479008",
   "metadata": {},
   "source": [
    "### Dictionary"
   ]
  },
  {
   "cell_type": "markdown",
   "id": "39ccfee5",
   "metadata": {},
   "source": [
    "A Python dictionary is a collection of key-value pairs where each key is associated with a value.\n",
    "\n",
    "A value in the key-value pair can be a number, a string, a list, a tuple, or even another dictionary. In fact, you can use a value of any valid type in Python as the value in the key-value pair.\n",
    "\n",
    "A key in the key-value pair must be immutable. In other words, the key cannot be changed, for example, a number, a string, a tuple, etc.\n",
    "\n",
    "Python uses curly braces {} to define a dictionary. Inside the curly braces, you can place zero, one, or many key-value pairs."
   ]
  },
  {
   "cell_type": "code",
   "execution_count": 1,
   "id": "279a04c1",
   "metadata": {},
   "outputs": [],
   "source": [
    "# The following example defines an empty dictionary:\n",
    "empty_dict={}"
   ]
  },
  {
   "cell_type": "markdown",
   "id": "7a39d9e4",
   "metadata": {},
   "source": [
    "Typically, you define an empty dictionary before a loop, either for loop or while loop. And inside the loop, you add key-value pairs to the dictionary."
   ]
  },
  {
   "cell_type": "code",
   "execution_count": 2,
   "id": "6139882e",
   "metadata": {},
   "outputs": [
    {
     "name": "stdout",
     "output_type": "stream",
     "text": [
      "<class 'dict'>\n"
     ]
    }
   ],
   "source": [
    "empty_dict = {}\n",
    "\n",
    "print(type(empty_dict))"
   ]
  },
  {
   "cell_type": "code",
   "execution_count": 3,
   "id": "e0fe7ebc",
   "metadata": {},
   "outputs": [],
   "source": [
    "# Example\n",
    "person = {\n",
    "    'first_name': 'John',\n",
    "    'last_name': 'Doe',\n",
    "    'age': 25,\n",
    "    'favorite_colors': ['blue', 'green'],\n",
    "    'active': True\n",
    "}"
   ]
  },
  {
   "cell_type": "markdown",
   "id": "b5563865",
   "metadata": {},
   "source": [
    "### Accessing values in a Dictionary\n",
    "To access a value associated with a key, you place the key inside square brackets:\n",
    "\n",
    "dict[key]"
   ]
  },
  {
   "cell_type": "code",
   "execution_count": 4,
   "id": "adfd8409",
   "metadata": {},
   "outputs": [
    {
     "name": "stdout",
     "output_type": "stream",
     "text": [
      "John\n",
      "Doe\n"
     ]
    }
   ],
   "source": [
    "# The following shows how to get the values associated with the key \n",
    "# first_name and last_name in the person dictionary:\n",
    "\n",
    "person = {\n",
    "    'first_name': 'John',\n",
    "    'last_name': 'Doe',\n",
    "    'age': 25,\n",
    "    'favorite_colors': ['blue', 'green'],\n",
    "    'active': True\n",
    "}\n",
    "print(person['first_name'])\n",
    "print(person['last_name'])"
   ]
  },
  {
   "cell_type": "markdown",
   "id": "8114b993",
   "metadata": {},
   "source": [
    "### Using the get() method\n",
    "If you attempt to access a key that doesn’t exist, you’ll get an error. For example:"
   ]
  },
  {
   "cell_type": "code",
   "execution_count": 1,
   "id": "d8f33cd8",
   "metadata": {},
   "outputs": [
    {
     "ename": "KeyError",
     "evalue": "'ssn'",
     "output_type": "error",
     "traceback": [
      "\u001b[1;31m---------------------------------------------------------------------------\u001b[0m",
      "\u001b[1;31mKeyError\u001b[0m                                  Traceback (most recent call last)",
      "Cell \u001b[1;32mIn[1], line 9\u001b[0m\n\u001b[0;32m      1\u001b[0m person \u001b[38;5;241m=\u001b[39m {\n\u001b[0;32m      2\u001b[0m     \u001b[38;5;124m'\u001b[39m\u001b[38;5;124mfirst_name\u001b[39m\u001b[38;5;124m'\u001b[39m: \u001b[38;5;124m'\u001b[39m\u001b[38;5;124mJohn\u001b[39m\u001b[38;5;124m'\u001b[39m,\n\u001b[0;32m      3\u001b[0m     \u001b[38;5;124m'\u001b[39m\u001b[38;5;124mlast_name\u001b[39m\u001b[38;5;124m'\u001b[39m: \u001b[38;5;124m'\u001b[39m\u001b[38;5;124mDoe\u001b[39m\u001b[38;5;124m'\u001b[39m,\n\u001b[1;32m   (...)\u001b[0m\n\u001b[0;32m      6\u001b[0m     \u001b[38;5;124m'\u001b[39m\u001b[38;5;124mactive\u001b[39m\u001b[38;5;124m'\u001b[39m: \u001b[38;5;28;01mTrue\u001b[39;00m\n\u001b[0;32m      7\u001b[0m }\n\u001b[1;32m----> 9\u001b[0m ssn \u001b[38;5;241m=\u001b[39m \u001b[43mperson\u001b[49m\u001b[43m[\u001b[49m\u001b[38;5;124;43m'\u001b[39;49m\u001b[38;5;124;43mssn\u001b[39;49m\u001b[38;5;124;43m'\u001b[39;49m\u001b[43m]\u001b[49m\n",
      "\u001b[1;31mKeyError\u001b[0m: 'ssn'"
     ]
    }
   ],
   "source": [
    "person = {\n",
    "    'first_name': 'John',\n",
    "    'last_name': 'Doe',\n",
    "    'age': 25,\n",
    "    'favorite_colors': ['blue', 'green'],\n",
    "    'active': True\n",
    "}\n",
    "\n",
    "ssn = person['ssn']"
   ]
  },
  {
   "cell_type": "markdown",
   "id": "57ae40cf",
   "metadata": {},
   "source": [
    "To avoid this error, you can use the get() method of the dictionary:"
   ]
  },
  {
   "cell_type": "code",
   "execution_count": 2,
   "id": "f093a412",
   "metadata": {},
   "outputs": [
    {
     "name": "stdout",
     "output_type": "stream",
     "text": [
      "None\n"
     ]
    }
   ],
   "source": [
    "person = {\n",
    "    'first_name': 'John',\n",
    "    'last_name': 'Doe',\n",
    "    'age': 25,\n",
    "    'favorite_colors': ['blue', 'green'],\n",
    "    'active': True\n",
    "}\n",
    "\n",
    "ssn = person.get('ssn')\n",
    "print(ssn)"
   ]
  },
  {
   "cell_type": "markdown",
   "id": "33f5e52e",
   "metadata": {},
   "source": [
    "If the key doesn’t exist, the get() method returns None instead of throwing a KeyError. Note that None means no value exists.\n",
    "\n",
    "The get() method also returns a default value when the key doesn’t exist by passing the default value to its second argument.\n",
    "\n",
    "The following example returns the '000-00-0000' string if the ssn key doesn’t exist in the person dictionary:"
   ]
  },
  {
   "cell_type": "code",
   "execution_count": 3,
   "id": "93440944",
   "metadata": {},
   "outputs": [
    {
     "name": "stdout",
     "output_type": "stream",
     "text": [
      "000-00-0000\n"
     ]
    }
   ],
   "source": [
    "person = {\n",
    "    'first_name': 'John',\n",
    "    'last_name': 'Doe',\n",
    "    'age': 25,\n",
    "    'favorite_colors': ['blue', 'green'],\n",
    "    'active': True\n",
    "}\n",
    "\n",
    "ssn = person.get('ssn', '000-00-0000')\n",
    "print(ssn)"
   ]
  },
  {
   "cell_type": "markdown",
   "id": "31a7b41f",
   "metadata": {},
   "source": [
    "### Adding new key-value pairs \n",
    "Since a dictionary has a dynamic structure, you can add new key-value pairs to it at any time.\n",
    "\n",
    "To add a new key-value pair to a dictionary, you specify the name of the dictionary followed by the new key in square brackets along with the new value.\n",
    "\n",
    "**person['gender'] = 'Famale'**\n",
    "\n",
    "The following example adds a new key-value pair to the person dictionary:"
   ]
  },
  {
   "cell_type": "code",
   "execution_count": 4,
   "id": "b8241033",
   "metadata": {},
   "outputs": [],
   "source": [
    "person['gender'] = 'Famale'"
   ]
  },
  {
   "cell_type": "markdown",
   "id": "12a6e767",
   "metadata": {},
   "source": [
    "### Modifying values in a key-value pair \n",
    "To modify a value associated with a key, you specify the dictionary name with the key in square brackets and the new value associated with the key:\n",
    "\n",
    "**dict[key] = new_value**"
   ]
  },
  {
   "cell_type": "code",
   "execution_count": 5,
   "id": "5d941868",
   "metadata": {},
   "outputs": [
    {
     "name": "stdout",
     "output_type": "stream",
     "text": [
      "{'first_name': 'John', 'last_name': 'Doe', 'age': 26, 'favorite_colors': ['blue', 'green'], 'active': True}\n"
     ]
    }
   ],
   "source": [
    "person = {\n",
    "    'first_name': 'John',\n",
    "    'last_name': 'Doe',\n",
    "    'age': 25,\n",
    "    'favorite_colors': ['blue', 'green'],\n",
    "    'active': True\n",
    "}\n",
    "\n",
    "person['age'] = 26\n",
    "\n",
    "print(person)"
   ]
  },
  {
   "cell_type": "markdown",
   "id": "335933ad",
   "metadata": {},
   "source": [
    "#### Removing key-value pairs \n",
    "To remove a key-value pair by a key, you use the del statement:\n",
    "\n",
    "del dict[key]\n",
    "\n",
    "In this syntax, you specify the dictionary name and the key that you want to remove.\n",
    "\n",
    "The following example removes the key 'active' from the person dictionary:"
   ]
  },
  {
   "cell_type": "code",
   "execution_count": 6,
   "id": "f71f84de",
   "metadata": {},
   "outputs": [
    {
     "name": "stdout",
     "output_type": "stream",
     "text": [
      "{'first_name': 'John', 'last_name': 'Doe', 'age': 25, 'favorite_colors': ['blue', 'green']}\n"
     ]
    }
   ],
   "source": [
    "person = {\n",
    "    'first_name': 'John',\n",
    "    'last_name': 'Doe',\n",
    "    'age': 25,\n",
    "    'favorite_colors': ['blue', 'green'],\n",
    "    'active': True\n",
    "}\n",
    "\n",
    "del person['active']\n",
    "print(person)"
   ]
  },
  {
   "cell_type": "markdown",
   "id": "e19f0019",
   "metadata": {},
   "source": [
    "### Looping through a dictionary \n",
    "To examine a dictionary, you can use a for loop to iterate over its key-value pairs, or keys, or values.\n",
    "\n",
    "**Note:** that since Python 3.7, when you loop through a dictionary, you’ll get the key-value pairs in the same order that you insert them.\n",
    "\n",
    "### Looping all key-value pairs in a dictionary \n",
    "Python dictionary provides a method called items() that returns an object which contains a list of key-value pairs as tuples in a list."
   ]
  },
  {
   "cell_type": "code",
   "execution_count": 7,
   "id": "5ac26608",
   "metadata": {},
   "outputs": [
    {
     "name": "stdout",
     "output_type": "stream",
     "text": [
      "dict_items([('first_name', 'John'), ('last_name', 'Doe'), ('age', 25), ('favorite_colors', ['blue', 'green']), ('active', True)])\n"
     ]
    }
   ],
   "source": [
    "person = {\n",
    "    'first_name': 'John',\n",
    "    'last_name': 'Doe',\n",
    "    'age': 25,\n",
    "    'favorite_colors': ['blue', 'green'],\n",
    "    'active': True\n",
    "}\n",
    "\n",
    "print(person.items())"
   ]
  },
  {
   "cell_type": "markdown",
   "id": "c9ef865d",
   "metadata": {},
   "source": [
    "To iterate over all key-value pairs in a dictionary, you use a for loop with two variable key and value to unpack each tuple of the list:"
   ]
  },
  {
   "cell_type": "code",
   "execution_count": 8,
   "id": "0ee970ed",
   "metadata": {},
   "outputs": [
    {
     "name": "stdout",
     "output_type": "stream",
     "text": [
      "first_name: John\n",
      "last_name: Doe\n",
      "age: 25\n",
      "favorite_colors: ['blue', 'green']\n",
      "active: True\n"
     ]
    }
   ],
   "source": [
    "person = {\n",
    "    'first_name': 'John',\n",
    "    'last_name': 'Doe',\n",
    "    'age': 25,\n",
    "    'favorite_colors': ['blue', 'green'],\n",
    "    'active': True\n",
    "}\n",
    "\n",
    "for key, value in person.items():\n",
    "    print(f\"{key}: {value}\")"
   ]
  },
  {
   "cell_type": "markdown",
   "id": "1ad702da",
   "metadata": {},
   "source": [
    "Note that you can use any variable name in the for loop. They don’t have to be the key and value.\n",
    "\n",
    "### Looping through all the keys in a dictionary \n",
    "Sometimes, you just want to loop through all keys in a dictionary. In this case, you can use a for loop with the keys() method.\n",
    "\n",
    "The keys() method returns an object that contains a list of keys in the dictionary."
   ]
  },
  {
   "cell_type": "code",
   "execution_count": 9,
   "id": "7df21a10",
   "metadata": {},
   "outputs": [
    {
     "name": "stdout",
     "output_type": "stream",
     "text": [
      "first_name\n",
      "last_name\n",
      "age\n",
      "favorite_colors\n",
      "active\n"
     ]
    }
   ],
   "source": [
    "person = {\n",
    "    'first_name': 'John',\n",
    "    'last_name': 'Doe',\n",
    "    'age': 25,\n",
    "    'favorite_colors': ['blue', 'green'],\n",
    "    'active': True\n",
    "}\n",
    "\n",
    "for key in person.keys():\n",
    "    print(key)"
   ]
  },
  {
   "cell_type": "markdown",
   "id": "b3e0e280",
   "metadata": {},
   "source": [
    "In fact, looping through all keys is the default behavior when looping through a dictionary. Therefore, you don’t need to use the keys() method.\n",
    "\n",
    "The following code returns the same output as the one in the above example:"
   ]
  },
  {
   "cell_type": "code",
   "execution_count": 10,
   "id": "52b29e7c",
   "metadata": {},
   "outputs": [
    {
     "name": "stdout",
     "output_type": "stream",
     "text": [
      "first_name\n",
      "last_name\n",
      "age\n",
      "favorite_colors\n",
      "active\n"
     ]
    }
   ],
   "source": [
    "person = {\n",
    "    'first_name': 'John',\n",
    "    'last_name': 'Doe',\n",
    "    'age': 25,\n",
    "    'favorite_colors': ['blue', 'green'],\n",
    "    'active': True\n",
    "}\n",
    "\n",
    "for key in person:\n",
    "    print(key)"
   ]
  },
  {
   "cell_type": "markdown",
   "id": "3cba013c",
   "metadata": {},
   "source": [
    "### Looping through all the values in a dictionary \n",
    "The values() method returns a list of values without any keys.\n",
    "\n",
    "To loop through all the values in a dictionary, you use a for loop with the values() method:"
   ]
  },
  {
   "cell_type": "code",
   "execution_count": 11,
   "id": "628fac2e",
   "metadata": {},
   "outputs": [
    {
     "name": "stdout",
     "output_type": "stream",
     "text": [
      "John\n",
      "Doe\n",
      "25\n",
      "['blue', 'green']\n",
      "True\n"
     ]
    }
   ],
   "source": [
    "person = {\n",
    "    'first_name': 'John',\n",
    "    'last_name': 'Doe',\n",
    "    'age': 25,\n",
    "    'favorite_colors': ['blue', 'green'],\n",
    "    'active': True\n",
    "}\n",
    "\n",
    "for value in person.values():\n",
    "    print(value)\n"
   ]
  },
  {
   "cell_type": "markdown",
   "id": "668b330b",
   "metadata": {},
   "source": [
    "### Python Dictionary Comprehension\n",
    "A dictionary comprehension allows you to run a for loop on a dictionary and do something on each item like transforming or filtering and returns a new dictionary.\n",
    "\n",
    "Unlike a for loop, a dictionary comprehension offers a more expressive and concise syntax when you use it correctly.\n",
    "\n",
    "Here is the general syntax for dictionary comprehension:\n",
    "\n",
    "**{key:value for (key,value) in dict.items() if condition}**\n",
    "\n",
    "This dictionary comprehension expression returns a new dictionary whose item specified by the expression key: value"
   ]
  },
  {
   "cell_type": "code",
   "execution_count": 12,
   "id": "6359c7ad",
   "metadata": {},
   "outputs": [
    {
     "name": "stdout",
     "output_type": "stream",
     "text": [
      "{'AAPL': 123.42, 'AMZN': 3447.6, 'MSFT': 223.38, 'BIIB': 285.6, 'QDEL': 271.32, 'LVGO': 146.88}\n"
     ]
    }
   ],
   "source": [
    "stocks = {\n",
    "    'AAPL': 121,\n",
    "    'AMZN': 3380,\n",
    "    'MSFT': 219,\n",
    "    'BIIB': 280,\n",
    "    'QDEL': 266,\n",
    "    'LVGO': 144\n",
    "}\n",
    "\n",
    "new_stocks = {}\n",
    "for symbol, price in stocks.items():\n",
    "    new_stocks[symbol] = price*1.02\n",
    "\n",
    "print(new_stocks)\n"
   ]
  },
  {
   "cell_type": "code",
   "execution_count": 13,
   "id": "aeabd450",
   "metadata": {},
   "outputs": [
    {
     "name": "stdout",
     "output_type": "stream",
     "text": [
      "{'AAPL': 123.42, 'AMZN': 3447.6, 'MSFT': 223.38, 'BIIB': 285.6, 'QDEL': 271.32, 'LVGO': 146.88}\n"
     ]
    }
   ],
   "source": [
    "stocks = {\n",
    "    'AAPL': 121,\n",
    "    'AMZN': 3380,\n",
    "    'MSFT': 219,\n",
    "    'BIIB': 280,\n",
    "    'QDEL': 266,\n",
    "    'LVGO': 144\n",
    "}\n",
    "\n",
    "new_stocks = {symbol: price * 1.02 for (symbol, price) in stocks.items()}\n",
    "\n",
    "print(new_stocks)"
   ]
  },
  {
   "cell_type": "code",
   "execution_count": 14,
   "id": "e35ff9b5",
   "metadata": {},
   "outputs": [
    {
     "name": "stdout",
     "output_type": "stream",
     "text": [
      "{'AMZN': 3380, 'MSFT': 219, 'BIIB': 280, 'QDEL': 266}\n"
     ]
    }
   ],
   "source": [
    "# To filter data, whose prices are greate than 200\n",
    "stocks = {\n",
    "    'AAPL': 121,\n",
    "    'AMZN': 3380,\n",
    "    'MSFT': 219,\n",
    "    'BIIB': 280,\n",
    "    'QDEL': 266,\n",
    "    'LVGO': 144\n",
    "}\n",
    "\n",
    "selected_stocks = {}\n",
    "for symbol, price in stocks.items():\n",
    "    if price > 200:\n",
    "        selected_stocks[symbol] = price\n",
    "\n",
    "print(selected_stocks)\n"
   ]
  },
  {
   "cell_type": "code",
   "execution_count": 15,
   "id": "2acbab0d",
   "metadata": {},
   "outputs": [
    {
     "name": "stdout",
     "output_type": "stream",
     "text": [
      "{'AMZN': 3380, 'MSFT': 219, 'BIIB': 280, 'QDEL': 266}\n"
     ]
    }
   ],
   "source": [
    "stocks = {\n",
    "    'AAPL': 121,\n",
    "    'AMZN': 3380,\n",
    "    'MSFT': 219,\n",
    "    'BIIB': 280,\n",
    "    'QDEL': 266,\n",
    "    'LVGO': 144\n",
    "}\n",
    "\n",
    "selected_stocks = {s: p for (s, p) in stocks.items() if p > 200}\n",
    "\n",
    "print(selected_stocks)"
   ]
  }
 ],
 "metadata": {
  "kernelspec": {
   "display_name": "Python 3",
   "language": "python",
   "name": "python3"
  },
  "language_info": {
   "codemirror_mode": {
    "name": "ipython",
    "version": 3
   },
   "file_extension": ".py",
   "mimetype": "text/x-python",
   "name": "python",
   "nbconvert_exporter": "python",
   "pygments_lexer": "ipython3",
   "version": "3.10.3"
  }
 },
 "nbformat": 4,
 "nbformat_minor": 5
}
