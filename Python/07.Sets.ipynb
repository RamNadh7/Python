{
 "cells": [
  {
   "cell_type": "markdown",
   "id": "089656a3",
   "metadata": {},
   "source": [
    "### Python Set\n",
    "A Python set is an unordered list of immutable elements. It means:\n",
    "\n",
    "- Elements in a set are unordered.\n",
    "- Elements in a set are unique. A set doesn’t allow duplicate elements.\n",
    "- Elements in a set cannot be changed. For example, they can be numbers, strings, and tuples, but cannot be lists or dictionaries.\n",
    "\n",
    "To define a set in Python, you use the curly brace {}. For example:"
   ]
  },
  {
   "cell_type": "code",
   "execution_count": 4,
   "id": "37d223d4",
   "metadata": {},
   "outputs": [],
   "source": [
    "skills = {'Python programming', 'Databases', 'Software design'}"
   ]
  },
  {
   "cell_type": "markdown",
   "id": "8be9f094",
   "metadata": {},
   "source": [
    "Note a dictionary also uses curly braces, but its elements are key-value pairs.\n",
    "\n",
    "To define an empty set, you cannot use the curly braces like this:"
   ]
  },
  {
   "cell_type": "code",
   "execution_count": 5,
   "id": "7d3d575e",
   "metadata": {},
   "outputs": [
    {
     "name": "stdout",
     "output_type": "stream",
     "text": [
      "Empty sets are falsy\n"
     ]
    }
   ],
   "source": [
    "empty_set = {}   # it defines the empty dictionary\n",
    "\n",
    "#Follow below\n",
    "skills = set()\n",
    "\n",
    "if not skills:\n",
    "    print('Empty sets are falsy')"
   ]
  },
  {
   "cell_type": "markdown",
   "id": "202f57b1",
   "metadata": {},
   "source": [
    "In fact, you can pass an iterable to the set() function to create a set. For example, you can pass a list, which is an iterable, to the set() function like this:"
   ]
  },
  {
   "cell_type": "code",
   "execution_count": 6,
   "id": "82313d3a",
   "metadata": {},
   "outputs": [
    {
     "name": "stdout",
     "output_type": "stream",
     "text": [
      "{'Critical Thinking', 'Problem solving'}\n"
     ]
    }
   ],
   "source": [
    "skills = set(['Problem solving','Critical Thinking'])\n",
    "print(skills)"
   ]
  },
  {
   "cell_type": "markdown",
   "id": "c26081f8",
   "metadata": {},
   "source": [
    "Note that the original order of elements may not be preserved.\n",
    "\n",
    "If an iterable has duplicate elements, the set() function will remove them. For example:"
   ]
  },
  {
   "cell_type": "code",
   "execution_count": null,
   "id": "fecafd48",
   "metadata": {},
   "outputs": [
    {
     "name": "stdout",
     "output_type": "stream",
     "text": [
      "{'t', 'e', 'l', 'r'}\n"
     ]
    }
   ],
   "source": [
    "characters = set('letter')\n",
    "print(characters)\n",
    "\n",
    "#In this example, the string 'letter' has two e and t characters and the set() removes each of them."
   ]
  },
  {
   "cell_type": "markdown",
   "id": "fd7e8be5",
   "metadata": {},
   "source": [
    "### Getting sizes of a set\n",
    "\n",
    "len(set)"
   ]
  },
  {
   "cell_type": "code",
   "execution_count": 2,
   "id": "b484455b",
   "metadata": {},
   "outputs": [
    {
     "name": "stdout",
     "output_type": "stream",
     "text": [
      "5\n"
     ]
    }
   ],
   "source": [
    "ratings = {1, 2, 3, 4, 5,5}\n",
    "size = len(ratings)\n",
    "\n",
    "print(size)    "
   ]
  },
  {
   "cell_type": "markdown",
   "id": "e22aa104",
   "metadata": {},
   "source": [
    "### Checking if an element is in set\n",
    "\n",
    "To check if a set contains an element, you use the in operator:\n",
    "**element in set**"
   ]
  },
  {
   "cell_type": "code",
   "execution_count": 3,
   "id": "6ca34a38",
   "metadata": {},
   "outputs": [
    {
     "name": "stdout",
     "output_type": "stream",
     "text": [
      "The set contains 1\n"
     ]
    }
   ],
   "source": [
    "ratings = {1, 2, 3, 4, 5}\n",
    "rating = 1\n",
    "\n",
    "if rating in ratings:\n",
    "    print(f'The set contains {rating}')"
   ]
  },
  {
   "cell_type": "code",
   "execution_count": 4,
   "id": "2e319951",
   "metadata": {},
   "outputs": [
    {
     "name": "stdout",
     "output_type": "stream",
     "text": [
      "The set does not contain 6\n"
     ]
    }
   ],
   "source": [
    "ratings = {1, 2, 3, 4, 5}\n",
    "rating = 6\n",
    "\n",
    "if rating not in ratings:\n",
    "    print(f'The set does not contain {rating}')"
   ]
  },
  {
   "cell_type": "markdown",
   "id": "61471a1a",
   "metadata": {},
   "source": [
    "### Adding elements to a set\n",
    "To add an element to a set, you use the add() method: **set.add(element)**"
   ]
  },
  {
   "cell_type": "code",
   "execution_count": 5,
   "id": "29abceb6",
   "metadata": {},
   "outputs": [
    {
     "name": "stdout",
     "output_type": "stream",
     "text": [
      "{'Python programming', 'Problem solving', 'Software design'}\n"
     ]
    }
   ],
   "source": [
    "skills = {'Python programming', 'Software design'}\n",
    "skills.add('Problem solving')\n",
    "\n",
    "print(skills)\n"
   ]
  },
  {
   "cell_type": "markdown",
   "id": "28352123",
   "metadata": {},
   "source": [
    "### Removing an element from a set\n",
    "\n",
    "To remove an element from a set, you use the remove() method: **set.remove()**"
   ]
  },
  {
   "cell_type": "code",
   "execution_count": 6,
   "id": "f88031b7",
   "metadata": {},
   "outputs": [
    {
     "name": "stdout",
     "output_type": "stream",
     "text": [
      "{'Python programming', 'Problem solving'}\n"
     ]
    }
   ],
   "source": [
    "skills = {'Problem solving', 'Software design', 'Python programming'}\n",
    "skills.remove('Software design')\n",
    "\n",
    "print(skills)"
   ]
  },
  {
   "cell_type": "markdown",
   "id": "6bea9676",
   "metadata": {},
   "source": [
    "If you remove an element that doesn’t exist in a set, you’ll get an error (KeyError). For example:"
   ]
  },
  {
   "cell_type": "code",
   "execution_count": 7,
   "id": "a39975f8",
   "metadata": {},
   "outputs": [
    {
     "ename": "KeyError",
     "evalue": "'Java'",
     "output_type": "error",
     "traceback": [
      "\u001b[1;31m---------------------------------------------------------------------------\u001b[0m",
      "\u001b[1;31mKeyError\u001b[0m                                  Traceback (most recent call last)",
      "Cell \u001b[1;32mIn[7], line 2\u001b[0m\n\u001b[0;32m      1\u001b[0m skills \u001b[38;5;241m=\u001b[39m {\u001b[38;5;124m'\u001b[39m\u001b[38;5;124mProblem solving\u001b[39m\u001b[38;5;124m'\u001b[39m, \u001b[38;5;124m'\u001b[39m\u001b[38;5;124mSoftware design\u001b[39m\u001b[38;5;124m'\u001b[39m, \u001b[38;5;124m'\u001b[39m\u001b[38;5;124mPython programming\u001b[39m\u001b[38;5;124m'\u001b[39m}\n\u001b[1;32m----> 2\u001b[0m \u001b[43mskills\u001b[49m\u001b[38;5;241;43m.\u001b[39;49m\u001b[43mremove\u001b[49m\u001b[43m(\u001b[49m\u001b[38;5;124;43m'\u001b[39;49m\u001b[38;5;124;43mJava\u001b[39;49m\u001b[38;5;124;43m'\u001b[39;49m\u001b[43m)\u001b[49m\n",
      "\u001b[1;31mKeyError\u001b[0m: 'Java'"
     ]
    }
   ],
   "source": [
    "skills = {'Problem solving', 'Software design', 'Python programming'}\n",
    "skills.remove('Java')"
   ]
  },
  {
   "cell_type": "markdown",
   "id": "a9a4017c",
   "metadata": {},
   "source": [
    "To avoid the error, you should use the in operator to check if an element is in the set before removing it:"
   ]
  },
  {
   "cell_type": "code",
   "execution_count": 8,
   "id": "d0b3564f",
   "metadata": {},
   "outputs": [],
   "source": [
    "skills = {'Problem solving', 'Software design', 'Python programming'}\n",
    "if 'Java' in skills:\n",
    "    skills.remove('Java')"
   ]
  },
  {
   "cell_type": "markdown",
   "id": "f62e548b",
   "metadata": {},
   "source": [
    "To make it more convenient, the set has the discard() method that allows you to remove an element. And it doesn’t raise an error if the element is not in the list: **set.discard(element)**"
   ]
  },
  {
   "cell_type": "code",
   "execution_count": 9,
   "id": "39342af3",
   "metadata": {},
   "outputs": [
    {
     "name": "stdout",
     "output_type": "stream",
     "text": [
      "{'Python programming', 'Problem solving', 'Software design'}\n"
     ]
    }
   ],
   "source": [
    "skills = {'Problem solving', 'Software design', 'Python programming'}\n",
    "skills.discard('Java')\n",
    "\n",
    "print(skills)"
   ]
  },
  {
   "cell_type": "markdown",
   "id": "ee086769",
   "metadata": {},
   "source": [
    "### Returning an element from a set \n",
    "To remove and return an element from a set, you use the pop() method.\n",
    "\n",
    "Since the elements in a set have no specific order, the pop() method removes an unspecified element from a set.\n",
    "\n",
    "If you execute the following code multiple times, it’ll show a different value each time:"
   ]
  },
  {
   "cell_type": "code",
   "execution_count": 10,
   "id": "de9e21ab",
   "metadata": {},
   "outputs": [
    {
     "name": "stdout",
     "output_type": "stream",
     "text": [
      "Python programming\n"
     ]
    }
   ],
   "source": [
    "skills = {'Problem solving', 'Software design', 'Python programming'}\n",
    "skill = skills.pop()\n",
    "\n",
    "print(skill)"
   ]
  },
  {
   "cell_type": "markdown",
   "id": "56d06279",
   "metadata": {},
   "source": [
    "### Removing all elements from a set\n",
    "To remove all elements from a set, you use the clear() method:**set.clear()**"
   ]
  },
  {
   "cell_type": "code",
   "execution_count": 11,
   "id": "7cb99c4b",
   "metadata": {},
   "outputs": [
    {
     "name": "stdout",
     "output_type": "stream",
     "text": [
      "set()\n"
     ]
    }
   ],
   "source": [
    "skills = {'Problem solving', 'Software design', 'Python programming'}\n",
    "skills.clear()\n",
    "\n",
    "print(skills)"
   ]
  },
  {
   "cell_type": "markdown",
   "id": "b349f5ed",
   "metadata": {},
   "source": [
    "### Frozen a set\n",
    "To make a set immutable, you use the built-in function called frozenset(). The frozenset() returns a new immutable set from an existing one. For example:"
   ]
  },
  {
   "cell_type": "code",
   "execution_count": 12,
   "id": "b5f91492",
   "metadata": {},
   "outputs": [],
   "source": [
    "skills = {'Problem solving', 'Software design', 'Python programming'}\n",
    "skills = frozenset(skills)"
   ]
  },
  {
   "cell_type": "code",
   "execution_count": 14,
   "id": "391c0f40",
   "metadata": {},
   "outputs": [
    {
     "ename": "AttributeError",
     "evalue": "'frozenset' object has no attribute 'add'",
     "output_type": "error",
     "traceback": [
      "\u001b[1;31m---------------------------------------------------------------------------\u001b[0m",
      "\u001b[1;31mAttributeError\u001b[0m                            Traceback (most recent call last)",
      "Cell \u001b[1;32mIn[14], line 2\u001b[0m\n\u001b[0;32m      1\u001b[0m \u001b[38;5;66;03m# if you try to modify you will get an error\u001b[39;00m\n\u001b[1;32m----> 2\u001b[0m \u001b[43mskills\u001b[49m\u001b[38;5;241;43m.\u001b[39;49m\u001b[43madd\u001b[49m(\u001b[38;5;124m'\u001b[39m\u001b[38;5;124mDjango\u001b[39m\u001b[38;5;124m'\u001b[39m)\n",
      "\u001b[1;31mAttributeError\u001b[0m: 'frozenset' object has no attribute 'add'"
     ]
    }
   ],
   "source": [
    "# if you try to modify you will get an error\n",
    "skills.add('Django')"
   ]
  },
  {
   "cell_type": "markdown",
   "id": "8c54c332",
   "metadata": {},
   "source": [
    "### Looping through set elements \n",
    "Since a set is an iterable, you can use a for loop to iterate over its elements. For example:"
   ]
  },
  {
   "cell_type": "code",
   "execution_count": 15,
   "id": "218bf75c",
   "metadata": {},
   "outputs": [
    {
     "name": "stdout",
     "output_type": "stream",
     "text": [
      "Python programming\n",
      "Problem solving\n",
      "Software design\n"
     ]
    }
   ],
   "source": [
    "skills = {'Problem solving', 'Software design', 'Python programming'}\n",
    "\n",
    "for skill in skills:\n",
    "    print(skill)\n"
   ]
  },
  {
   "cell_type": "markdown",
   "id": "6da043c3",
   "metadata": {},
   "source": [
    "To access the index of the current element inside the loop, you can use the built-in enumerate() function:"
   ]
  },
  {
   "cell_type": "code",
   "execution_count": 16,
   "id": "c3b5e71b",
   "metadata": {},
   "outputs": [
    {
     "name": "stdout",
     "output_type": "stream",
     "text": [
      "0.Python programming\n",
      "1.Problem solving\n",
      "2.Software design\n"
     ]
    }
   ],
   "source": [
    "skills = {'Problem solving', 'Software design', 'Python programming'}\n",
    "\n",
    "for index, skill in enumerate(skills):\n",
    "    print(f\"{index}.{skill}\")"
   ]
  },
  {
   "cell_type": "markdown",
   "id": "c6687533",
   "metadata": {},
   "source": [
    "By default, the index starts at zero. To change this, you pass the starting value to the second argument of the enumerate() function. For example:"
   ]
  },
  {
   "cell_type": "code",
   "execution_count": 17,
   "id": "edae47d9",
   "metadata": {},
   "outputs": [
    {
     "name": "stdout",
     "output_type": "stream",
     "text": [
      "1.Python programming\n",
      "2.Problem solving\n",
      "3.Software design\n"
     ]
    }
   ],
   "source": [
    "skills = {'Problem solving', 'Software design', 'Python programming'}\n",
    "\n",
    "for index, skill in enumerate(skills, 1):\n",
    "    print(f\"{index}.{skill}\")"
   ]
  },
  {
   "cell_type": "markdown",
   "id": "ea1fd043",
   "metadata": {},
   "source": [
    "### Python Set Comprehension"
   ]
  },
  {
   "cell_type": "markdown",
   "id": "07c5caa3",
   "metadata": {},
   "source": [
    "Suppose that you have the following set that consists of three tags:\n",
    "\n",
    "tags = {'Django', 'Pandas', 'Numpy'}\n",
    "\n",
    "To convert the tags in the set to another set of tags in lowercase, you may use the following for loop:"
   ]
  },
  {
   "cell_type": "code",
   "execution_count": 18,
   "id": "a8fbd6e3",
   "metadata": {},
   "outputs": [
    {
     "name": "stdout",
     "output_type": "stream",
     "text": [
      "{'pandas', 'django', 'numpy'}\n"
     ]
    }
   ],
   "source": [
    "tags = {'Django', 'Pandas', 'Numpy'}\n",
    "\n",
    "lowercase_tags = set()\n",
    "for tag in tags:\n",
    "    lowercase_tags.add(tag.lower())\n",
    "\n",
    "print(lowercase_tags)"
   ]
  },
  {
   "cell_type": "markdown",
   "id": "93380cc8",
   "metadata": {},
   "source": [
    "Or you can use the built-in map() function with a lambda expression:"
   ]
  },
  {
   "cell_type": "code",
   "execution_count": 19,
   "id": "63e59ffd",
   "metadata": {},
   "outputs": [
    {
     "name": "stdout",
     "output_type": "stream",
     "text": [
      "{'pandas', 'django', 'numpy'}\n"
     ]
    }
   ],
   "source": [
    "tags = {'Django', 'Pandas', 'Numpy'}\n",
    "lowercase_tags = set(map(lambda tag: tag.lower(), tags))\n",
    "\n",
    "print(lowercase_tags)"
   ]
  },
  {
   "cell_type": "markdown",
   "id": "c5bfbba6",
   "metadata": {},
   "source": [
    "The map() function returns a map object so you need to use the set() function to convert it to a set.\n",
    "\n",
    "To make the code more concise, Python provides you with the set comprehension syntax as follows:\n",
    "\n",
    "{expression for element in set if condition}"
   ]
  },
  {
   "cell_type": "markdown",
   "id": "38ca2e22",
   "metadata": {},
   "source": [
    "The set comprehension allows you to create a new set based on an existing set.\n",
    "\n",
    "A set comprehension carries the following steps:\n",
    "\n",
    "- First, iterate over the elements of a set.\n",
    "- Second, apply an expression to each element\n",
    "- Third, create a new set of elements resulting from the expression.\n",
    "\n",
    "In addition, the set comprehension allows you to select which element to apply the expression via a condition in the if clause.\n",
    "\n",
    "**Note:** Note that the set comprehension returns a new set, it doesn’t modify the original set."
   ]
  },
  {
   "cell_type": "code",
   "execution_count": 20,
   "id": "541d228c",
   "metadata": {},
   "outputs": [
    {
     "name": "stdout",
     "output_type": "stream",
     "text": [
      "{'pandas', 'django', 'numpy'}\n"
     ]
    }
   ],
   "source": [
    "tags = {'Django', 'Pandas', 'Numpy'}\n",
    "lowercase_tags = {tag.lower() for tag in tags}\n",
    "\n",
    "print(lowercase_tags)"
   ]
  },
  {
   "cell_type": "markdown",
   "id": "ed821a9d",
   "metadata": {},
   "source": [
    "### Python Set comprehension with an if clause example\n",
    "Suppose you want to convert all elements of the tags set to lowercase except for the Numpy.\n",
    "\n",
    "To do it, you can add a condition to the set comprehension like this:"
   ]
  },
  {
   "cell_type": "code",
   "execution_count": 21,
   "id": "c7d3b91b",
   "metadata": {},
   "outputs": [
    {
     "name": "stdout",
     "output_type": "stream",
     "text": [
      "{'django', 'pandas'}\n"
     ]
    }
   ],
   "source": [
    "tags = {'Django', 'Pandas', 'Numpy'}\n",
    "new_tags = {tag.lower() for tag in tags if tag != 'Numpy'}\n",
    "\n",
    "print(new_tags)"
   ]
  },
  {
   "cell_type": "markdown",
   "id": "ba2210cf",
   "metadata": {},
   "source": [
    "### Python Set Union\n",
    "The union of two sets returns a new set that contains distinct elements from both sets.\n",
    "\n",
    "Suppose that you have the following sets:"
   ]
  },
  {
   "cell_type": "code",
   "execution_count": 22,
   "id": "aeae786b",
   "metadata": {},
   "outputs": [
    {
     "data": {
      "text/plain": [
       "{'C#', 'Java', 'Python'}"
      ]
     },
     "execution_count": 22,
     "metadata": {},
     "output_type": "execute_result"
    }
   ],
   "source": [
    "s1 = {'Python', 'Java'}\n",
    "s2 = {'C#', 'Java'}\n",
    "\n",
    "# The union of above set will be \n",
    "{'Java','Python', 'C#'}"
   ]
  },
  {
   "cell_type": "markdown",
   "id": "88d8d163",
   "metadata": {},
   "source": [
    "### Union sets using union() method \n",
    "In Python, to union two or more sets, you use the union() method: **new_set = set.union(another_set, ...)**"
   ]
  },
  {
   "cell_type": "code",
   "execution_count": 23,
   "id": "1f2c8c72",
   "metadata": {},
   "outputs": [
    {
     "name": "stdout",
     "output_type": "stream",
     "text": [
      "{'C#', 'Java', 'Python'}\n"
     ]
    }
   ],
   "source": [
    "s1 = {'Python', 'Java'}\n",
    "s2 = {'C#', 'Java'}\n",
    "\n",
    "s = s1.union(s2)\n",
    "\n",
    "print(s)"
   ]
  },
  {
   "cell_type": "markdown",
   "id": "e8ad9039",
   "metadata": {},
   "source": [
    "### Union sets using the | operator \n",
    "Python provides you with the set union operator | that allows you to union two sets:\n",
    "\n",
    "new_set = set1 | set2\n",
    "\n",
    "The set union operator (|) returns a new set that consists of distinct elements from both set1 and set2.\n",
    "\n",
    "The following example shows how to use the union operator (|) to union the s1 and s2 sets:"
   ]
  },
  {
   "cell_type": "code",
   "execution_count": 24,
   "id": "17d2ebfe",
   "metadata": {},
   "outputs": [
    {
     "name": "stdout",
     "output_type": "stream",
     "text": [
      "{'C#', 'Java', 'Python'}\n"
     ]
    }
   ],
   "source": [
    "s1 = {'Python', 'Java'}\n",
    "s2 = {'C#', 'Java'}\n",
    "\n",
    "s = s1 | s2\n",
    "\n",
    "print(s)"
   ]
  },
  {
   "cell_type": "markdown",
   "id": "b5033390",
   "metadata": {},
   "source": [
    "### The union() method vs. set union operator \n",
    "The union() method accepts one or more iterables, converts the iterables to sets, and performs the union.\n",
    "\n",
    "The following example shows how to pass a list to the union() method:"
   ]
  },
  {
   "cell_type": "code",
   "execution_count": 25,
   "id": "c43bdabf",
   "metadata": {},
   "outputs": [
    {
     "name": "stdout",
     "output_type": "stream",
     "text": [
      "{1, 2, 3, 4}\n"
     ]
    }
   ],
   "source": [
    "rates = {1, 2, 3}\n",
    "ranks = [2, 3, 4]\n",
    "\n",
    "ratings = rates.union(ranks)\n",
    "\n",
    "print(ratings)"
   ]
  },
  {
   "cell_type": "markdown",
   "id": "5f6f31a9",
   "metadata": {},
   "source": [
    "However, the union operator (|) only allows sets, not iterables like the union() method.\n",
    "\n",
    "The following example causes an error:"
   ]
  },
  {
   "cell_type": "code",
   "execution_count": 26,
   "id": "e2a1b900",
   "metadata": {},
   "outputs": [
    {
     "ename": "TypeError",
     "evalue": "unsupported operand type(s) for |: 'set' and 'list'",
     "output_type": "error",
     "traceback": [
      "\u001b[1;31m---------------------------------------------------------------------------\u001b[0m",
      "\u001b[1;31mTypeError\u001b[0m                                 Traceback (most recent call last)",
      "Cell \u001b[1;32mIn[26], line 4\u001b[0m\n\u001b[0;32m      1\u001b[0m rates \u001b[38;5;241m=\u001b[39m {\u001b[38;5;241m1\u001b[39m, \u001b[38;5;241m2\u001b[39m, \u001b[38;5;241m3\u001b[39m}\n\u001b[0;32m      2\u001b[0m ranks \u001b[38;5;241m=\u001b[39m [\u001b[38;5;241m2\u001b[39m, \u001b[38;5;241m3\u001b[39m, \u001b[38;5;241m4\u001b[39m]\n\u001b[1;32m----> 4\u001b[0m ratings \u001b[38;5;241m=\u001b[39m \u001b[43mrates\u001b[49m\u001b[43m \u001b[49m\u001b[38;5;241;43m|\u001b[39;49m\u001b[43m \u001b[49m\u001b[43mranks\u001b[49m\n",
      "\u001b[1;31mTypeError\u001b[0m: unsupported operand type(s) for |: 'set' and 'list'"
     ]
    }
   ],
   "source": [
    "rates = {1, 2, 3}\n",
    "ranks = [2, 3, 4]\n",
    "\n",
    "ratings = rates | ranks"
   ]
  },
  {
   "cell_type": "markdown",
   "id": "67c3aa7a",
   "metadata": {},
   "source": [
    "### Python Set Intersection\n",
    "In Python, you can use the set intersection() method or set intersection operator (&) to intersect two or more sets:<br>\n",
    "new_set = set1.intersection(set2, set3)<br>\n",
    "new_set = set1 & set2 & set3"
   ]
  },
  {
   "cell_type": "markdown",
   "id": "1771bc8d",
   "metadata": {},
   "source": [
    "When intersecting two or more sets, you’ll get a new set consisting of elements that exist in all sets.\n",
    "\n",
    "Suppose that you have two following sets s1 and s2:"
   ]
  },
  {
   "cell_type": "code",
   "execution_count": 28,
   "id": "4efe3411",
   "metadata": {},
   "outputs": [],
   "source": [
    "s1 = {'Python', 'Java','C++'}\n",
    "s2 = {'C#', 'Java', 'C++' }\n",
    "\n",
    "# The intersection will give the following output because they’re the only elements that exist in both sets.\n",
    "s = {'Java', 'C++'}"
   ]
  },
  {
   "cell_type": "markdown",
   "id": "e52bc853",
   "metadata": {},
   "source": [
    "The set intersection has many useful applications. For example, you can use set intersections to find the common favorites of two friends on a social networking application or to search for common skills of two or more employees on an HR application.\n",
    "\n",
    "In Python, you can intersect two or more sets using the set intersection() method or set intersection operator (&).\n",
    "\n",
    "### Using Python set intersection() method to intersect two or more sets \n",
    "This example shows how to use the set intersection() method to intersect two or more sets:\n",
    "\n",
    "new_set = set1.intersection(set2, set3, ...)"
   ]
  },
  {
   "cell_type": "code",
   "execution_count": 29,
   "id": "cc9c1ac8",
   "metadata": {},
   "outputs": [
    {
     "name": "stdout",
     "output_type": "stream",
     "text": [
      "{'C++', 'Java'}\n"
     ]
    }
   ],
   "source": [
    "s1 = {'Python', 'Java', 'C++'}\n",
    "s2 = {'C#', 'Java', 'C++'}\n",
    "\n",
    "s = s1.intersection(s2)\n",
    "\n",
    "print(s)\n"
   ]
  },
  {
   "cell_type": "markdown",
   "id": "aabaf3f7",
   "metadata": {},
   "source": [
    "### Using Python set intersection (&) operator to intersect two or more sets \n",
    "Python provides you with the set intersection operator (&) that allows you to intersect two or more sets:\n",
    "\n",
    "new_set = s1 & s2 & s3 & ..."
   ]
  },
  {
   "cell_type": "code",
   "execution_count": 30,
   "id": "3a0862cb",
   "metadata": {},
   "outputs": [
    {
     "name": "stdout",
     "output_type": "stream",
     "text": [
      "{'C++', 'Java'}\n"
     ]
    }
   ],
   "source": [
    "s1 = {'Python', 'Java', 'C++'}\n",
    "s2 = {'C#', 'Java', 'C++'}\n",
    "\n",
    "s = s1 & s2\n",
    "\n",
    "print(s)"
   ]
  },
  {
   "cell_type": "markdown",
   "id": "8df6846a",
   "metadata": {},
   "source": [
    "### Set intersection() method vs set intersection operator (&) \n",
    "The set intersection operator only allows sets, while the set intersection() method can accept any iterables, like strings, lists, and dictionaries.\n",
    "\n",
    "If you pass iterables to the intersection() method, it’ll convert the iterables to set before intersecting them.\n",
    "\n",
    "However, the set intersection operator (&) will raise an error if you use it with iterables.\n",
    "\n",
    "The following example uses the intersection() method to intersect a set with a list:"
   ]
  },
  {
   "cell_type": "code",
   "execution_count": 31,
   "id": "d9ec28ac",
   "metadata": {},
   "outputs": [
    {
     "name": "stdout",
     "output_type": "stream",
     "text": [
      "{2, 3}\n"
     ]
    }
   ],
   "source": [
    "numbers = {1, 2, 3}\n",
    "scores = [2, 3, 4]\n",
    "\n",
    "numbers = numbers.intersection(scores)\n",
    "\n",
    "print(numbers)"
   ]
  },
  {
   "cell_type": "markdown",
   "id": "24c3adc4",
   "metadata": {},
   "source": [
    "If you use the set intersection operator (&) instead, you’ll get an error:"
   ]
  },
  {
   "cell_type": "code",
   "execution_count": 1,
   "id": "4c2d3d76",
   "metadata": {},
   "outputs": [
    {
     "ename": "TypeError",
     "evalue": "unsupported operand type(s) for &: 'set' and 'list'",
     "output_type": "error",
     "traceback": [
      "\u001b[1;31m---------------------------------------------------------------------------\u001b[0m",
      "\u001b[1;31mTypeError\u001b[0m                                 Traceback (most recent call last)",
      "Cell \u001b[1;32mIn[1], line 4\u001b[0m\n\u001b[0;32m      1\u001b[0m numbers \u001b[38;5;241m=\u001b[39m {\u001b[38;5;241m1\u001b[39m, \u001b[38;5;241m2\u001b[39m, \u001b[38;5;241m3\u001b[39m}\n\u001b[0;32m      2\u001b[0m scores \u001b[38;5;241m=\u001b[39m [\u001b[38;5;241m2\u001b[39m, \u001b[38;5;241m3\u001b[39m, \u001b[38;5;241m4\u001b[39m]\n\u001b[1;32m----> 4\u001b[0m numbers \u001b[38;5;241m=\u001b[39m \u001b[43mnumbers\u001b[49m\u001b[43m \u001b[49m\u001b[38;5;241;43m&\u001b[39;49m\u001b[43m \u001b[49m\u001b[43mscores\u001b[49m\n\u001b[0;32m      6\u001b[0m \u001b[38;5;28mprint\u001b[39m(numbers)\n",
      "\u001b[1;31mTypeError\u001b[0m: unsupported operand type(s) for &: 'set' and 'list'"
     ]
    }
   ],
   "source": [
    "numbers = {1, 2, 3}\n",
    "scores = [2, 3, 4]\n",
    "\n",
    "numbers = numbers & scores\n",
    "\n",
    "print(numbers)"
   ]
  },
  {
   "cell_type": "markdown",
   "id": "14bbe5bd",
   "metadata": {},
   "source": [
    "### Python Set Difference\n",
    "The difference between the two sets results in a new set that has elements from the first set which aren’t present in the second set.\n",
    "\n",
    "Suppose you have the following s1 and s2 sets:<br>\n",
    "s1 = {'Python', 'Java', 'C++'}<br>\n",
    "s2 = {'C#', 'Java', 'C++'}\n",
    "\n",
    "The difference between s1 and s2 sets results in the following set with one element: {'Python'}\n",
    "\n",
    "because there is only 'Python' element from the first set that doesn’t exist in the second set.\n",
    "\n",
    "The set difference isn’t commutative. The difference between the s2 and s1 sets returns the following set: {'C#'}"
   ]
  },
  {
   "cell_type": "markdown",
   "id": "0b419bac",
   "metadata": {},
   "source": [
    "### Using Python Set difference() method to find the difference between sets #\n",
    "The Set type has a difference() method that returns the difference between two or more sets:\n",
    "\n",
    "set1.difference(s2, s3, ...)\n",
    "\n",
    "For example, you can use the set difference() method to find the difference between s1 and s2 sets:"
   ]
  },
  {
   "cell_type": "code",
   "execution_count": 2,
   "id": "3fe75f93",
   "metadata": {},
   "outputs": [
    {
     "name": "stdout",
     "output_type": "stream",
     "text": [
      "{'Python'}\n"
     ]
    }
   ],
   "source": [
    "s1 = {'Python', 'Java', 'C++'}\n",
    "s2 = {'C#', 'Java', 'C++'}\n",
    "s = s1.difference(s2)\n",
    "\n",
    "print(s)"
   ]
  },
  {
   "cell_type": "code",
   "execution_count": 3,
   "id": "8a862f30",
   "metadata": {},
   "outputs": [
    {
     "name": "stdout",
     "output_type": "stream",
     "text": [
      "{'C#'}\n"
     ]
    }
   ],
   "source": [
    "s1 = {'Python', 'Java', 'C++'}\n",
    "s2 = {'C#', 'Java', 'C++'}\n",
    "s = s2.difference(s1)\n",
    "\n",
    "print(s)"
   ]
  },
  {
   "cell_type": "markdown",
   "id": "803fe8bd",
   "metadata": {},
   "source": [
    "**Note:** that the difference() method returns a new set. It doesn’t change the original sets."
   ]
  },
  {
   "cell_type": "markdown",
   "id": "fe6e1ec1",
   "metadata": {},
   "source": [
    "### Using Python set difference operator (-) to find the difference between sets \n",
    "Besides the difference() method, Python provides you with the set difference operator (-) that allows you to find the difference between sets.\n",
    "\n",
    "s = s1 - s2\n",
    "\n",
    "The following example uses the difference operator (-) to find the difference between the s1 and s2 sets:"
   ]
  },
  {
   "cell_type": "code",
   "execution_count": 4,
   "id": "e3360fa3",
   "metadata": {},
   "outputs": [
    {
     "name": "stdout",
     "output_type": "stream",
     "text": [
      "{'Python'}\n"
     ]
    }
   ],
   "source": [
    "s1 = {'Python', 'Java', 'C++'}\n",
    "s2 = {'C#', 'Java', 'C++'}\n",
    "s = s1 - s2\n",
    "\n",
    "print(s)"
   ]
  },
  {
   "cell_type": "code",
   "execution_count": 5,
   "id": "1234d0da",
   "metadata": {},
   "outputs": [
    {
     "name": "stdout",
     "output_type": "stream",
     "text": [
      "{'C#'}\n"
     ]
    }
   ],
   "source": [
    "s1 = {'Python', 'Java', 'C++'}\n",
    "s2 = {'C#', 'Java', 'C++'}\n",
    "s = s2 - s1\n",
    "\n",
    "print(s)"
   ]
  },
  {
   "cell_type": "markdown",
   "id": "66236254",
   "metadata": {},
   "source": [
    "### The set difference() method vs set difference operator (-) #\n",
    "The set difference() method can accept one or more iterables (e.g., strings, lists, dictionaries) while the set difference operator (-) only allows sets.\n",
    "\n",
    "When you pass iterables to the set difference() method, it’ll convert the iterables to sets before performing the difference operation.\n",
    "\n",
    "The following shows how to use the set difference() method with a list:"
   ]
  },
  {
   "cell_type": "code",
   "execution_count": 6,
   "id": "170365b1",
   "metadata": {},
   "outputs": [
    {
     "name": "stdout",
     "output_type": "stream",
     "text": [
      "{8, 7}\n"
     ]
    }
   ],
   "source": [
    "scores = {7, 8, 9}\n",
    "numbers = [9, 10]\n",
    "new_scores = scores.difference(numbers)\n",
    "\n",
    "print(new_scores)"
   ]
  },
  {
   "cell_type": "code",
   "execution_count": 7,
   "id": "02377b0a",
   "metadata": {},
   "outputs": [
    {
     "ename": "TypeError",
     "evalue": "unsupported operand type(s) for -: 'set' and 'list'",
     "output_type": "error",
     "traceback": [
      "\u001b[1;31m---------------------------------------------------------------------------\u001b[0m",
      "\u001b[1;31mTypeError\u001b[0m                                 Traceback (most recent call last)",
      "Cell \u001b[1;32mIn[7], line 3\u001b[0m\n\u001b[0;32m      1\u001b[0m scores \u001b[38;5;241m=\u001b[39m {\u001b[38;5;241m7\u001b[39m, \u001b[38;5;241m8\u001b[39m, \u001b[38;5;241m9\u001b[39m}\n\u001b[0;32m      2\u001b[0m numbers \u001b[38;5;241m=\u001b[39m [\u001b[38;5;241m9\u001b[39m, \u001b[38;5;241m10\u001b[39m]\n\u001b[1;32m----> 3\u001b[0m new_scores \u001b[38;5;241m=\u001b[39m \u001b[43mscores\u001b[49m\u001b[43m \u001b[49m\u001b[38;5;241;43m-\u001b[39;49m\u001b[43m \u001b[49m\u001b[43mnumbers\u001b[49m\n\u001b[0;32m      5\u001b[0m \u001b[38;5;28mprint\u001b[39m(new_scores)\n",
      "\u001b[1;31mTypeError\u001b[0m: unsupported operand type(s) for -: 'set' and 'list'"
     ]
    }
   ],
   "source": [
    "scores = {7, 8, 9}\n",
    "numbers = [9, 10]\n",
    "new_scores = scores - numbers\n",
    "\n",
    "print(new_scores)"
   ]
  },
  {
   "cell_type": "markdown",
   "id": "070e0d2a",
   "metadata": {},
   "source": [
    "### Python Symmetric Difference"
   ]
  },
  {
   "cell_type": "markdown",
   "id": "ee6dc5b7",
   "metadata": {},
   "source": [
    "The symmetric difference between two sets is a set of elements that are in either set, but not in their intersection.\n",
    "\n",
    "Suppose that you have the following s1 and s2 sets:<br>\n",
    "s1 = {'Python', 'Java', 'C++'}<br>\n",
    "s2 = {'C#', 'Java', 'C++'}\n",
    "\n",
    "The symmetric difference of the s1 and s2 sets returns in the following set:\n",
    "{'C#', 'Python'}\n",
    "\n",
    "As you can see clearly from the output, the elements in the return set are either in s1 or s2 set, but not in their intersection.\n",
    "\n",
    "In Python, you can find the symmetric difference of two or more sets by using the set symmetric_difference() method or the symmetric difference operator (^).\n",
    "\n",
    "### Using the symmetric_difference() method to find the symmetric difference of sets \n",
    "The Set type has the symmetric_difference() method that returns the symmetric difference of two or more sets:<br>\n",
    "new_set = set1.symmetric_difference(set2, set3,...)"
   ]
  },
  {
   "cell_type": "code",
   "execution_count": 8,
   "id": "db04a211",
   "metadata": {},
   "outputs": [
    {
     "name": "stdout",
     "output_type": "stream",
     "text": [
      "{'C#', 'Python'}\n"
     ]
    }
   ],
   "source": [
    "s1 = {'Python', 'Java', 'C++'}\n",
    "s2 = {'C#', 'Java', 'C++'}\n",
    "\n",
    "s = s1.symmetric_difference(s2)\n",
    "\n",
    "print(s)"
   ]
  },
  {
   "cell_type": "markdown",
   "id": "f104d8dd",
   "metadata": {},
   "source": [
    "**Note:** that the symmetric_difference() method returns a new set and doesn’t modify the original sets.\n",
    "\n",
    "### Using the symmetric difference operator(^) to find the symmetric difference of sets \n",
    "Besides using the set symmetric_difference() method, you can use the symmetric difference operator (^) to find the symmetric difference between two or more sets:\n",
    "\n",
    "new_set = set1 ^ set2 ^..."
   ]
  },
  {
   "cell_type": "code",
   "execution_count": 9,
   "id": "360dbee1",
   "metadata": {},
   "outputs": [
    {
     "name": "stdout",
     "output_type": "stream",
     "text": [
      "{'C#', 'Python'}\n"
     ]
    }
   ],
   "source": [
    "s1 = {'Python', 'Java', 'C++'}\n",
    "s2 = {'C#', 'Java', 'C++'}\n",
    "\n",
    "s = s1 ^ s2\n",
    "\n",
    "print(s)"
   ]
  },
  {
   "cell_type": "markdown",
   "id": "43c5d935",
   "metadata": {},
   "source": [
    "### The symmetric_difference() method vs symmetric difference operator (^) #\n",
    "The symmetric_difference() method accepts one or more iterables that can be strings, lists, or dictionaries.\n",
    "\n",
    "If the iterables aren’t sets, the method will convert them to sets before returning the symmetric difference of them.\n",
    "\n",
    "The following example shows how to use the symmetric_difference() method to find the symmetric difference between a set and a list:"
   ]
  },
  {
   "cell_type": "code",
   "execution_count": 10,
   "id": "cf2b55ba",
   "metadata": {},
   "outputs": [
    {
     "name": "stdout",
     "output_type": "stream",
     "text": [
      "{10, 7}\n"
     ]
    }
   ],
   "source": [
    "scores = {7, 8, 9}\n",
    "ratings = [8, 9, 10]\n",
    "new_set = scores.symmetric_difference(ratings)\n",
    "\n",
    "print(new_set)"
   ]
  },
  {
   "cell_type": "markdown",
   "id": "71d9a255",
   "metadata": {},
   "source": [
    "However, the symmetric difference operator (^) only applies to sets. If you use it with the iterables which aren’t sets, you’ll get an error. For example:"
   ]
  },
  {
   "cell_type": "code",
   "execution_count": 11,
   "id": "5146927a",
   "metadata": {},
   "outputs": [
    {
     "ename": "TypeError",
     "evalue": "unsupported operand type(s) for ^: 'set' and 'list'",
     "output_type": "error",
     "traceback": [
      "\u001b[1;31m---------------------------------------------------------------------------\u001b[0m",
      "\u001b[1;31mTypeError\u001b[0m                                 Traceback (most recent call last)",
      "Cell \u001b[1;32mIn[11], line 3\u001b[0m\n\u001b[0;32m      1\u001b[0m scores \u001b[38;5;241m=\u001b[39m {\u001b[38;5;241m7\u001b[39m, \u001b[38;5;241m8\u001b[39m, \u001b[38;5;241m9\u001b[39m}\n\u001b[0;32m      2\u001b[0m ratings \u001b[38;5;241m=\u001b[39m [\u001b[38;5;241m8\u001b[39m, \u001b[38;5;241m9\u001b[39m, \u001b[38;5;241m10\u001b[39m]\n\u001b[1;32m----> 3\u001b[0m new_set \u001b[38;5;241m=\u001b[39m \u001b[43mscores\u001b[49m\u001b[43m \u001b[49m\u001b[38;5;241;43m^\u001b[39;49m\u001b[43m \u001b[49m\u001b[43mratings\u001b[49m\n\u001b[0;32m      5\u001b[0m \u001b[38;5;28mprint\u001b[39m(new_set)\n",
      "\u001b[1;31mTypeError\u001b[0m: unsupported operand type(s) for ^: 'set' and 'list'"
     ]
    }
   ],
   "source": [
    "scores = {7, 8, 9}\n",
    "ratings = [8, 9, 10]\n",
    "new_set = scores ^ ratings\n",
    "\n",
    "print(new_set)"
   ]
  },
  {
   "cell_type": "markdown",
   "id": "36d30d64",
   "metadata": {},
   "source": [
    "### Python issubset\n",
    "Suppose that you have two sets A and B. Set A is a subset of set B if all elements of A are also elements of B. Then, set B is a superset of set A.\n",
    "\n",
    "In Python, you can use the Set issubset() method to check if a set is a subset of another:\n",
    "\n",
    "set_a.issubset(set_b)\n",
    "\n",
    "If the set_a is a subset of the set_b, the issubset() method returns True. Otherwise, it returns False.\n",
    "\n",
    "The following example uses the issubset() method to check if the set_a is a subset of the set_b:"
   ]
  },
  {
   "cell_type": "code",
   "execution_count": 12,
   "id": "6898e46a",
   "metadata": {},
   "outputs": [
    {
     "name": "stdout",
     "output_type": "stream",
     "text": [
      "True\n"
     ]
    }
   ],
   "source": [
    "numbers = {1, 2, 3, 4, 5}\n",
    "scores = {1, 2, 3}\n",
    "\n",
    "print(scores.issubset(numbers))"
   ]
  },
  {
   "cell_type": "code",
   "execution_count": 13,
   "id": "41226203",
   "metadata": {},
   "outputs": [
    {
     "name": "stdout",
     "output_type": "stream",
     "text": [
      "True\n"
     ]
    }
   ],
   "source": [
    "#By definition, a set is also a subset of itself. The following example returns True:\n",
    "numbers = {1, 2, 3, 4, 5}\n",
    "\n",
    "print(numbers.issubset(numbers))"
   ]
  },
  {
   "cell_type": "markdown",
   "id": "0e0896f2",
   "metadata": {},
   "source": [
    "The following example returns False because some elements in the numbers set aren’t in the scores set. In other words, the numbers set is not a subset of the scores set:"
   ]
  },
  {
   "cell_type": "code",
   "execution_count": 14,
   "id": "03845eba",
   "metadata": {},
   "outputs": [
    {
     "name": "stdout",
     "output_type": "stream",
     "text": [
      "False\n"
     ]
    }
   ],
   "source": [
    "numbers = {1, 2, 3, 4, 5}\n",
    "scores = {1, 2, 3}\n",
    "\n",
    "print(numbers.issubset(scores))"
   ]
  },
  {
   "cell_type": "markdown",
   "id": "cadb3787",
   "metadata": {},
   "source": [
    "### Using subset operators \n",
    "Besides using the issubset() method, you can use the subset operator (<=) to check if a set is a subset of another set:\n",
    "\n",
    "set_a <= set_b\n",
    "\n",
    "The subset operator (<=) returns True if set_a is a subset of the set_b. Otherwise, it returns False. For example:"
   ]
  },
  {
   "cell_type": "code",
   "execution_count": 15,
   "id": "f3ef9d4a",
   "metadata": {},
   "outputs": [
    {
     "name": "stdout",
     "output_type": "stream",
     "text": [
      "True\n",
      "True\n"
     ]
    }
   ],
   "source": [
    "numbers = {1, 2, 3, 4, 5}\n",
    "scores = {1, 2, 3}\n",
    "\n",
    "result = scores <= numbers\n",
    "print(result)  # True\n",
    "\n",
    "result = numbers <= numbers\n",
    "print(result)  # True"
   ]
  },
  {
   "cell_type": "markdown",
   "id": "9483f472",
   "metadata": {},
   "source": [
    "The proper subset operator (<) check if the set_a is a proper subset of the set_b: **set_a < set_b**"
   ]
  },
  {
   "cell_type": "code",
   "execution_count": 16,
   "id": "ce3798b2",
   "metadata": {},
   "outputs": [
    {
     "name": "stdout",
     "output_type": "stream",
     "text": [
      "True\n",
      "False\n"
     ]
    }
   ],
   "source": [
    "numbers = {1, 2, 3, 4, 5}\n",
    "scores = {1, 2, 3}\n",
    "\n",
    "result = scores < numbers\n",
    "print(result)  # True\n",
    "\n",
    "result = numbers < numbers\n",
    "print(result)  # False"
   ]
  },
  {
   "cell_type": "markdown",
   "id": "2351de23",
   "metadata": {},
   "source": [
    "### Python issuperset\n",
    "Suppose that you have two sets: A and B. A is a superset of B if all elements of B are elements of A.\n",
    "\n",
    "If A is a superset of B, then B is a subset of A. To check if a set is a subset of another, you use the issubset() method.\n",
    "\n",
    "If set A and set B are not equal, set A is a proper superset of set B.\n",
    "\n",
    "Logically, a set is a superset of itself."
   ]
  },
  {
   "cell_type": "markdown",
   "id": "9ef4355d",
   "metadata": {},
   "source": [
    "In Python, you use the set issuperset() method to check if a set is a superset of another set:\n",
    "\n",
    "**set_a.issuperset(set_b)**\n",
    "\n",
    "The issuperset() returns True if the set_a is a superset of the set_b. Otherwise, it returns False.\n"
   ]
  },
  {
   "cell_type": "code",
   "execution_count": 17,
   "id": "a5654db9",
   "metadata": {},
   "outputs": [
    {
     "name": "stdout",
     "output_type": "stream",
     "text": [
      "True\n"
     ]
    }
   ],
   "source": [
    "numbers = {1, 2, 3, 4, 5}\n",
    "scores = {1, 2, 3}\n",
    "\n",
    "result = numbers.issuperset(scores)\n",
    "\n",
    "print(result)"
   ]
  },
  {
   "cell_type": "markdown",
   "id": "fef5d7fb",
   "metadata": {},
   "source": [
    "Since all elements of the scores set are present in the numbers set, the numbers set is the superset of the scores set.\n",
    "\n",
    "A set is also a superset of itself. For example:"
   ]
  },
  {
   "cell_type": "code",
   "execution_count": 18,
   "id": "8baa0817",
   "metadata": {},
   "outputs": [
    {
     "name": "stdout",
     "output_type": "stream",
     "text": [
      "True\n"
     ]
    }
   ],
   "source": [
    "numbers = {1, 2, 3, 4, 5}\n",
    "result = numbers.issuperset(numbers)\n",
    "\n",
    "print(result)"
   ]
  },
  {
   "cell_type": "markdown",
   "id": "567d197b",
   "metadata": {},
   "source": [
    "The scores set is not a subset of the numbers set therefore the following example returns False:"
   ]
  },
  {
   "cell_type": "code",
   "execution_count": 19,
   "id": "bd4d5464",
   "metadata": {},
   "outputs": [
    {
     "name": "stdout",
     "output_type": "stream",
     "text": [
      "False\n"
     ]
    }
   ],
   "source": [
    "numbers = {1, 2, 3, 4, 5}\n",
    "scores = {1, 2, 3}\n",
    "\n",
    "result = scores.issuperset(numbers)\n",
    "\n",
    "print(result)"
   ]
  },
  {
   "cell_type": "markdown",
   "id": "f4178b92",
   "metadata": {},
   "source": [
    "### Using superset operators \n",
    "The >= operator determines if a set is a superset of another set:\n",
    "\n",
    "**set_a >= set_b**\n",
    "\n",
    "The >= operator returns True if the set_a is a superset of the set_b. Otherwise, it returns False. For example:"
   ]
  },
  {
   "cell_type": "code",
   "execution_count": 20,
   "id": "3e791b04",
   "metadata": {},
   "outputs": [
    {
     "name": "stdout",
     "output_type": "stream",
     "text": [
      "True\n",
      "True\n"
     ]
    }
   ],
   "source": [
    "numbers = {1, 2, 3, 4, 5}\n",
    "scores = {1, 2, 3}\n",
    "\n",
    "result = numbers >= scores\n",
    "print(result)  # True\n",
    "\n",
    "result = numbers >= numbers\n",
    "print(result)  # True"
   ]
  },
  {
   "cell_type": "markdown",
   "id": "bc518d35",
   "metadata": {},
   "source": [
    "To check if a set is a proper superset of another set, you use the > operator:\n",
    "\n",
    "**set_a > set_b**"
   ]
  },
  {
   "cell_type": "code",
   "execution_count": 21,
   "id": "3922f165",
   "metadata": {},
   "outputs": [
    {
     "name": "stdout",
     "output_type": "stream",
     "text": [
      "True\n",
      "False\n"
     ]
    }
   ],
   "source": [
    "numbers = {1, 2, 3, 4, 5}\n",
    "scores = {1, 2, 3}\n",
    "\n",
    "result = numbers > scores\n",
    "print(result)  # True\n",
    "\n",
    "result = numbers > numbers\n",
    "print(result)  # True"
   ]
  },
  {
   "cell_type": "markdown",
   "id": "24c4372c",
   "metadata": {},
   "source": [
    "### Python Disjoin Sets\n",
    "\n",
    "Two sets are disjoint when they have no elements in common. In other words, two disjoint sets are sets whose intersection is an empty set.\n",
    "\n",
    "For example, the {1,3,5} and {2,4,6} sets are disjoint because they have no common elements.\n",
    "In Python, you use the Set isdisjoint() method to check if two sets are disjoint or not:\n",
    "\n",
    "**set_a.isdisjoint(set_b)**\n",
    "\n",
    "The isdisjoint() method returns True if the set_a and set_b are disjoint. Otherwise, it returns False.\n",
    "\n",
    "The isdisjoint() method also accepts any iterable, not just a set.\n",
    "\n",
    "If you pass a list, a tuple, or a dictionary, the isdisjoint() method will convert it to a set before checking."
   ]
  },
  {
   "cell_type": "code",
   "execution_count": 22,
   "id": "3b1268c7",
   "metadata": {},
   "outputs": [
    {
     "name": "stdout",
     "output_type": "stream",
     "text": [
      "True\n"
     ]
    }
   ],
   "source": [
    "odd_numbers = {1, 3, 5}\n",
    "even_numbers = {2, 4, 6}\n",
    "\n",
    "result = odd_numbers.isdisjoint(even_numbers)\n",
    "\n",
    "print(result)"
   ]
  },
  {
   "cell_type": "markdown",
   "id": "7fcfc036",
   "metadata": {},
   "source": [
    "Since no elements in the odd_numbers are present in the set even_numbers, the isdisjoint() method returns True.\n",
    "\n",
    "The following example uses the isdisjoint() method to check if the set letters and the set alphanumerics are disjoint:"
   ]
  },
  {
   "cell_type": "code",
   "execution_count": 23,
   "id": "e2abe695",
   "metadata": {},
   "outputs": [
    {
     "name": "stdout",
     "output_type": "stream",
     "text": [
      "False\n"
     ]
    }
   ],
   "source": [
    "letters = {'A', 'B', 'C'}\n",
    "alphanumerics = {'A', 1, 2}\n",
    "\n",
    "result = letters.isdisjoint(alphanumerics)\n",
    "\n",
    "print(result)"
   ]
  },
  {
   "cell_type": "markdown",
   "id": "6828224a",
   "metadata": {},
   "source": [
    "It returns False because the letter 'A' in the set alphanumerics is present in the set letters.\n",
    "\n",
    "The following example passes a list to the isdisjoint() method instead of a set:"
   ]
  },
  {
   "cell_type": "code",
   "execution_count": 24,
   "id": "67ff74c9",
   "metadata": {},
   "outputs": [
    {
     "name": "stdout",
     "output_type": "stream",
     "text": [
      "True\n"
     ]
    }
   ],
   "source": [
    "letters = {'A', 'B', 'C'}\n",
    "result = letters.isdisjoint([1, 2, 3])\n",
    "\n",
    "print(result)"
   ]
  }
 ],
 "metadata": {
  "kernelspec": {
   "display_name": "Python 3",
   "language": "python",
   "name": "python3"
  },
  "language_info": {
   "codemirror_mode": {
    "name": "ipython",
    "version": 3
   },
   "file_extension": ".py",
   "mimetype": "text/x-python",
   "name": "python",
   "nbconvert_exporter": "python",
   "pygments_lexer": "ipython3",
   "version": "3.10.3"
  }
 },
 "nbformat": 4,
 "nbformat_minor": 5
}
