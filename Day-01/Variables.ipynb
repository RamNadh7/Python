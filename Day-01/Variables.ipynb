{
 "cells": [
  {
   "cell_type": "markdown",
   "id": "8d51f124",
   "metadata": {},
   "source": [
    "# Variables"
   ]
  },
  {
   "cell_type": "markdown",
   "id": "c960b637",
   "metadata": {},
   "source": [
    "- variables are used to store data that can be referenced and manipulated during program execution. A variable is essentially a name that is assigned to a value.\n",
    "- Python variables do not require explicit declaration of type. The type of the variable is inferred based on the value assigned.\n",
    "- Variables act as placeholders for data. They allow us to store and reuse values in our program."
   ]
  },
  {
   "cell_type": "markdown",
   "id": "d8b1d035",
   "metadata": {},
   "source": [
    "# Naming variables"
   ]
  },
  {
   "cell_type": "markdown",
   "id": "b22043ea",
   "metadata": {},
   "source": [
    "- Variable names can contain only letters, numbers, and underscores (_). They can start with a letter or an underscore (_), not with a number.\n",
    "- Variable names cannot contain spaces. To separate words in variables, you use underscores, for example sorted_list.\n",
    "- Variable names cannot be the same as keywords, reserved words, and built-in functions in Python."
   ]
  },
  {
   "cell_type": "code",
   "execution_count": 1,
   "id": "0d1272ad",
   "metadata": {},
   "outputs": [],
   "source": [
    "#Valid\n",
    "age = 21\n",
    "_colour = \"lilac\"\n",
    "total_score = 90"
   ]
  },
  {
   "cell_type": "code",
   "execution_count": 2,
   "id": "55c355be",
   "metadata": {},
   "outputs": [
    {
     "ename": "SyntaxError",
     "evalue": "invalid decimal literal (3336589566.py, line 2)",
     "output_type": "error",
     "traceback": [
      "\u001b[1;36m  Cell \u001b[1;32mIn[2], line 2\u001b[1;36m\u001b[0m\n\u001b[1;33m    1name = \"Error\"  # Starts with a digit\u001b[0m\n\u001b[1;37m    ^\u001b[0m\n\u001b[1;31mSyntaxError\u001b[0m\u001b[1;31m:\u001b[0m invalid decimal literal\n"
     ]
    }
   ],
   "source": [
    "#Invalid\n",
    "1name = \"Error\"  # Starts with a digit\n",
    "class = 10       # 'class' is a reserved keyword\n",
    "user-name = \"Doe\"  # Contains a hyphen"
   ]
  },
  {
   "cell_type": "markdown",
   "id": "1cab3190",
   "metadata": {},
   "source": [
    "# Dynamic Typing\n",
    "- Python variables are dynamically typed, meaning the same variable can hold different types of values during execution."
   ]
  },
  {
   "cell_type": "code",
   "execution_count": 3,
   "id": "de0a97dd",
   "metadata": {},
   "outputs": [],
   "source": [
    "x = 10\n",
    "x = \"Now a string\""
   ]
  },
  {
   "cell_type": "markdown",
   "id": "702d91cf",
   "metadata": {},
   "source": [
    "## Multiple Assignments\n",
    "- Python allows multiple variables to be assigned values in a single line.\n",
    "\n",
    "## Assigning the Same Value\n",
    "- Python allows assigning the same value to multiple variables in a single line, which can be useful for initializing variables with the same value."
   ]
  },
  {
   "cell_type": "code",
   "execution_count": 5,
   "id": "b0711d11",
   "metadata": {},
   "outputs": [
    {
     "name": "stdout",
     "output_type": "stream",
     "text": [
      "100 100 100\n",
      "1 2.5 Python\n"
     ]
    }
   ],
   "source": [
    "a = b = c = 100\n",
    "print(a, b, c) \n",
    "\n",
    "#Assigning Differenct Values\n",
    "x, y, z = 1, 2.5, \"Python\"\n",
    "print(x, y, z)  "
   ]
  },
  {
   "cell_type": "markdown",
   "id": "ffc4ac7a",
   "metadata": {},
   "source": [
    "### Delete a Variable Using del Keyword\n",
    "- We can remove a variable from the namespace using the del keyword. This effectively deletes the variable and frees up the memory it was using."
   ]
  },
  {
   "cell_type": "code",
   "execution_count": 6,
   "id": "015eed64",
   "metadata": {},
   "outputs": [
    {
     "name": "stdout",
     "output_type": "stream",
     "text": [
      "10\n"
     ]
    },
    {
     "ename": "NameError",
     "evalue": "name 'x' is not defined",
     "output_type": "error",
     "traceback": [
      "\u001b[1;31m---------------------------------------------------------------------------\u001b[0m",
      "\u001b[1;31mNameError\u001b[0m                                 Traceback (most recent call last)",
      "Cell \u001b[1;32mIn[6], line 6\u001b[0m\n\u001b[0;32m      4\u001b[0m \u001b[38;5;66;03m# Removing the variable using del\u001b[39;00m\n\u001b[0;32m      5\u001b[0m \u001b[38;5;28;01mdel\u001b[39;00m x\n\u001b[1;32m----> 6\u001b[0m \u001b[38;5;28mprint\u001b[39m(\u001b[43mx\u001b[49m)\n",
      "\u001b[1;31mNameError\u001b[0m: name 'x' is not defined"
     ]
    }
   ],
   "source": [
    "x = 10\n",
    "print(x) \n",
    "\n",
    "# Removing the variable using del\n",
    "del x\n",
    "print(x)"
   ]
  }
 ],
 "metadata": {
  "kernelspec": {
   "display_name": "Python 3",
   "language": "python",
   "name": "python3"
  },
  "language_info": {
   "codemirror_mode": {
    "name": "ipython",
    "version": 3
   },
   "file_extension": ".py",
   "mimetype": "text/x-python",
   "name": "python",
   "nbconvert_exporter": "python",
   "pygments_lexer": "ipython3",
   "version": "3.10.3"
  }
 },
 "nbformat": 4,
 "nbformat_minor": 5
}
