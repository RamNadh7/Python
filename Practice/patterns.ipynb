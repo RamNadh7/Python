{
  "cells": [
    {
      "cell_type": "code",
      "execution_count": 2,
      "metadata": {},
      "outputs": [
        {
          "data": {
            "text/plain": [
              "'\\nPattern 1\\n\\n****\\n****\\n****\\n****\\n'"
            ]
          },
          "execution_count": 2,
          "metadata": {},
          "output_type": "execute_result"
        }
      ],
      "source": [
        "'''\n",
        "Pattern 1\n",
        "\n",
        "****\n",
        "****\n",
        "****\n",
        "****\n",
        "'''"
      ]
    },
    {
      "cell_type": "code",
      "execution_count": 1,
      "metadata": {},
      "outputs": [
        {
          "name": "stdout",
          "output_type": "stream",
          "text": [
            "* * * * * * \n",
            "* * * * * * \n",
            "* * * * * * \n",
            "* * * * * * \n",
            "* * * * * * \n",
            "* * * * * * \n"
          ]
        }
      ],
      "source": [
        "n=int(input('Enter the number: '))\n",
        "for i in range(n):\n",
        "    for j in range(n):\n",
        "        print('* ',end='')\n",
        "    print()\n"
      ]
    },
    {
      "cell_type": "code",
      "execution_count": null,
      "metadata": {},
      "outputs": [],
      "source": [
        "'''\n",
        "Pattern 2\n",
        "6\n",
        "\n",
        "* \n",
        "* * \n",
        "* * *\n",
        "* * * *\n",
        "* * * * *\n",
        "* * * * * *\n",
        "'''"
      ]
    },
    {
      "cell_type": "code",
      "execution_count": 4,
      "metadata": {},
      "outputs": [
        {
          "name": "stdout",
          "output_type": "stream",
          "text": [
            "\n",
            "* \n",
            "* * \n",
            "* * * \n",
            "* * * * \n",
            "* * * * * \n"
          ]
        }
      ],
      "source": [
        "n=int(input('Enter the number: '))\n",
        "for i in range(n):\n",
        "    for j in range(i):\n",
        "        print('* ',end='')\n",
        "    print()\n"
      ]
    },
    {
      "cell_type": "code",
      "execution_count": null,
      "metadata": {},
      "outputs": [],
      "source": [
        "'''\n",
        "n=6\n",
        "1\n",
        "1 2\n",
        "1 2 3\n",
        "1 2 3 4\n",
        "1 2 3 4 5\n",
        "1 2 3 4 5 6\n",
        "'''"
      ]
    },
    {
      "cell_type": "code",
      "execution_count": 5,
      "metadata": {},
      "outputs": [
        {
          "name": "stdout",
          "output_type": "stream",
          "text": [
            "1 \n",
            "1 2 \n",
            "1 2 3 \n",
            "1 2 3 4 \n",
            "1 2 3 4 5 \n",
            "1 2 3 4 5 6 \n"
          ]
        }
      ],
      "source": [
        "n=int(input('Enter the number:'))\n",
        "for i in range(1,n+1):\n",
        "    for j in range(i):\n",
        "        print(j+1 ,end=' ')\n",
        "    print()"
      ]
    },
    {
      "cell_type": "code",
      "execution_count": null,
      "metadata": {},
      "outputs": [],
      "source": [
        "'''\n",
        " N = 6\n",
        "Result:\n",
        "1\n",
        "2 2\n",
        "3 3 3\n",
        "4 4 4 4\n",
        "5 5 5 5 5\n",
        "6 6 6 6 6 6\n",
        "'''"
      ]
    },
    {
      "cell_type": "code",
      "execution_count": 6,
      "metadata": {},
      "outputs": [
        {
          "name": "stdout",
          "output_type": "stream",
          "text": [
            "1 \n",
            "2 2 \n",
            "3 3 3 \n",
            "4 4 4 4 \n",
            "5 5 5 5 5 \n",
            "6 6 6 6 6 6 \n"
          ]
        }
      ],
      "source": [
        "n=int(input('Enter the number:'))\n",
        "for i in range(1,n+1):\n",
        "    for j in range(i):\n",
        "        print(i ,end=' ')\n",
        "    print()\n",
        "\n"
      ]
    },
    {
      "cell_type": "code",
      "execution_count": null,
      "metadata": {},
      "outputs": [],
      "source": [
        "'''\n",
        "N = 6\n",
        "Result:\n",
        "* * * * * *\n",
        "* * * * * \n",
        "* * * * \n",
        "* * * \n",
        "* * \n",
        "* \n",
        "'''"
      ]
    },
    {
      "cell_type": "code",
      "execution_count": 7,
      "metadata": {},
      "outputs": [
        {
          "name": "stdout",
          "output_type": "stream",
          "text": [
            "*  *  *  *  *  *  \n",
            "*  *  *  *  *  \n",
            "*  *  *  *  \n",
            "*  *  *  \n",
            "*  *  \n",
            "*  \n"
          ]
        }
      ],
      "source": [
        "n=int(input('Enter the number: '))\n",
        "for i in range(n):\n",
        "    for j in range(n-i):\n",
        "        print('* ',end=' ')\n",
        "    print()\n"
      ]
    },
    {
      "cell_type": "code",
      "execution_count": null,
      "metadata": {},
      "outputs": [],
      "source": [
        "'''\n",
        "N = 6\n",
        "Result:\n",
        "1 2 3 4 5 6\n",
        "1 2 3 4 5\n",
        "1 2 3 4\n",
        "1 2 3\n",
        "1 2 \n",
        "1\n",
        "'''"
      ]
    },
    {
      "cell_type": "code",
      "execution_count": 8,
      "metadata": {},
      "outputs": [
        {
          "name": "stdout",
          "output_type": "stream",
          "text": [
            "1 2 3 4 5 6 \n",
            "1 2 3 4 5 \n",
            "1 2 3 4 \n",
            "1 2 3 \n",
            "1 2 \n",
            "1 \n"
          ]
        }
      ],
      "source": [
        "n=int(input('Enter the number: '))\n",
        "for i in range(n):\n",
        "    for j in range(n-i):\n",
        "        print(j+1,end=' ')\n",
        "    print()\n"
      ]
    },
    {
      "cell_type": "code",
      "execution_count": null,
      "metadata": {},
      "outputs": [],
      "source": [
        "'''\n",
        "N = 6\n",
        "Result:\n",
        "     *     \n",
        "    ***    \n",
        "   *****   \n",
        "  *******  \n",
        " ********* \n",
        "***********\n",
        "'''"
      ]
    },
    {
      "cell_type": "code",
      "execution_count": 9,
      "metadata": {},
      "outputs": [
        {
          "name": "stdout",
          "output_type": "stream",
          "text": [
            "          *           \n",
            "        * * *         \n",
            "      * * * * *       \n",
            "    * * * * * * *     \n",
            "  * * * * * * * * *   \n",
            "* * * * * * * * * * * \n"
          ]
        }
      ],
      "source": [
        "n=int(input('enter the Number: '))\n",
        "for i in range(n):\n",
        "    for j in range(n-i-1):\n",
        "        print(' ',end=' ')\n",
        "    for k in range(2*i+1):\n",
        "        print('*',end=' ')\n",
        "    for l in range(n-i-1):\n",
        "        print(' ',end=' ')\n",
        "    print()"
      ]
    },
    {
      "cell_type": "code",
      "execution_count": null,
      "metadata": {},
      "outputs": [],
      "source": [
        "'''\n",
        "N = 6\n",
        "Result:     \n",
        "***********\n",
        " *********\n",
        "  *******\n",
        "   ***** \n",
        "    ***    \n",
        "     *\n",
        "'''"
      ]
    },
    {
      "cell_type": "code",
      "execution_count": 33,
      "metadata": {},
      "outputs": [
        {
          "name": "stdout",
          "output_type": "stream",
          "text": [
            "***********\n",
            " ********* \n",
            "  *******  \n",
            "   *****   \n",
            "    ***    \n",
            "     *     \n"
          ]
        }
      ],
      "source": [
        "n=int(input('Enter the Number: '))\n",
        "for i in range(n):\n",
        "    for j in range(i):\n",
        "        print(' ',end='')\n",
        "    for k in range((2*n)-(2*i)-1):\n",
        "        print('*',end='')\n",
        "    for l in range(i):\n",
        "        print(' ',end='')\n",
        "    print()"
      ]
    },
    {
      "cell_type": "code",
      "execution_count": 3,
      "metadata": {},
      "outputs": [
        {
          "name": "stdout",
          "output_type": "stream",
          "text": [
            "          *           \n",
            "        * * *         \n",
            "      * * * * *       \n",
            "    * * * * * * *     \n",
            "  * * * * * * * * *   \n",
            "* * * * * * * * * * * \n",
            "* * * * * * * * * * * \n",
            "  * * * * * * * * *   \n",
            "    * * * * * * *     \n",
            "      * * * * *       \n",
            "        * * *         \n",
            "          *           \n"
          ]
        }
      ],
      "source": [
        "n=int(input('Enter the Number: '))\n",
        "for i in range(n):\n",
        "    for j in range(n-i-1):\n",
        "        print(' ',end=' ')\n",
        "    for k in range(2*i+1):\n",
        "        print('*',end=' ')\n",
        "    for l in range(n-i-1):\n",
        "        print(' ',end=' ')\n",
        "    print()\n",
        "for i in range(n):\n",
        "    for j in range(i):\n",
        "        print(' ',end=' ')\n",
        "    for k in range((2*n)-(2*i)-1):\n",
        "        print('*',end=' ')\n",
        "    for l in range(i):\n",
        "        print(' ',end=' ')\n",
        "    print()"
      ]
    }
  ],
  "metadata": {
    "anaconda-cloud": {},
    "kernelspec": {
      "display_name": "Python 3",
      "language": "python",
      "name": "python3"
    },
    "language_info": {
      "codemirror_mode": {
        "name": "ipython",
        "version": 3
      },
      "file_extension": ".py",
      "mimetype": "text/x-python",
      "name": "python",
      "nbconvert_exporter": "python",
      "pygments_lexer": "ipython3",
      "version": "3.10.3"
    }
  },
  "nbformat": 4,
  "nbformat_minor": 4
}
